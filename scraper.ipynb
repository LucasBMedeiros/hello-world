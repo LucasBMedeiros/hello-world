{
 "cells": [
  {
   "cell_type": "markdown",
   "metadata": {},
   "source": [
    "# 0.0. Imports"
   ]
  },
  {
   "cell_type": "markdown",
   "metadata": {
    "heading_collapsed": true
   },
   "source": [
    "## 0.1. Libraries"
   ]
  },
  {
   "cell_type": "code",
   "execution_count": 4,
   "metadata": {
    "ExecuteTime": {
     "end_time": "2021-01-22T18:20:57.166764Z",
     "start_time": "2021-01-22T18:20:50.746621Z"
    },
    "hidden": true
   },
   "outputs": [],
   "source": [
    "# jupyter core\n",
    "from IPython.core.display      import display, HTML\n",
    "from IPython.display           import Image\n",
    "\n",
    "# requests\n",
    "from urllib.request import Request, urlopen, urlretrieve\n",
    "from urllib.error import URLError, HTTPError\n",
    "\n",
    "# scraping\n",
    "from bs4 import BeautifulSoup\n",
    "\n",
    "# data manipulation\n",
    "import numpy as np\n",
    "import pandas as pd\n",
    "import re\n",
    "\n",
    "# EDA\n",
    "import matplotlib.pyplot as plt\n",
    "import seaborn as sns"
   ]
  },
  {
   "cell_type": "markdown",
   "metadata": {
    "heading_collapsed": true
   },
   "source": [
    "## 0.2. Helper Functions"
   ]
  },
  {
   "cell_type": "code",
   "execution_count": 53,
   "metadata": {
    "ExecuteTime": {
     "end_time": "2021-01-22T19:00:23.626108Z",
     "start_time": "2021-01-22T19:00:23.606120Z"
    },
    "hidden": true
   },
   "outputs": [],
   "source": [
    "def jupyter_settings():\n",
    "    !matplotlib inline\n",
    "    !pylab inline\n",
    "    \n",
    "    plt.style.use('bmh')\n",
    "    plt.rcParams['figure.figsize'] = [25, 12]\n",
    "\n",
    "    plt.rcParams['font.size'] = 12\n",
    "    \n",
    "    display(HTML(\"<style>.container { width:100% !important; }</style>\"))\n",
    "    pd.set_option('display.max_rows', 500)\n",
    "    pd.set_option('display.max_columns', 500)\n",
    "    pd.set_option('display.expand_frame_repr', False)\n",
    "    \n",
    "    sns.set()"
   ]
  },
  {
   "cell_type": "code",
   "execution_count": 49,
   "metadata": {
    "ExecuteTime": {
     "end_time": "2021-01-22T18:58:42.732810Z",
     "start_time": "2021-01-22T18:58:41.945289Z"
    },
    "hidden": true
   },
   "outputs": [
    {
     "name": "stderr",
     "output_type": "stream",
     "text": [
      "'matplotlib' nÆo ‚ reconhecido como um comando interno\n",
      "ou externo, um programa oper vel ou um arquivo em lotes.\n",
      "'pylab' nÆo ‚ reconhecido como um comando interno\n",
      "ou externo, um programa oper vel ou um arquivo em lotes.\n"
     ]
    },
    {
     "data": {
      "text/html": [
       "<style>.container { width:100% !important; }</style>"
      ],
      "text/plain": [
       "<IPython.core.display.HTML object>"
      ]
     },
     "metadata": {},
     "output_type": "display_data"
    }
   ],
   "source": [
    "jupyter_settings()"
   ]
  },
  {
   "cell_type": "markdown",
   "metadata": {},
   "source": [
    "## 0.3. Data Scraper"
   ]
  },
  {
   "cell_type": "markdown",
   "metadata": {
    "heading_collapsed": true
   },
   "source": [
    "### Request test"
   ]
  },
  {
   "cell_type": "code",
   "execution_count": 5,
   "metadata": {
    "ExecuteTime": {
     "end_time": "2021-01-22T18:21:02.235679Z",
     "start_time": "2021-01-22T18:20:57.174759Z"
    },
    "hidden": true
   },
   "outputs": [
    {
     "name": "stdout",
     "output_type": "stream",
     "text": [
      "OK\n"
     ]
    }
   ],
   "source": [
    "# request test\n",
    "url = 'https://rn.olx.com.br/rio-grande-do-norte/natal/imoveis/aluguel/apartamentos?o=1'\n",
    "headers = {'user-agent': 'Mozilla/5.0 (Windows NT 10.0; Win64; x64) AppleWebKit/537.36 (KHTML, like Gecko) Chrome/84.0.4147.105 Safari/537.36'}\n",
    "try:\n",
    "    req = Request(url, headers=headers)\n",
    "    response = urlopen(req)\n",
    "    html = response.read().decode('utf-8')\n",
    "    print('OK')\n",
    "except HTTPError as e:\n",
    "    print(e.status, e.reason)\n",
    "    \n",
    "except URLError as e:\n",
    "    print(e.reason)"
   ]
  },
  {
   "cell_type": "markdown",
   "metadata": {},
   "source": [
    "### Scraper"
   ]
  },
  {
   "cell_type": "code",
   "execution_count": 6,
   "metadata": {
    "ExecuteTime": {
     "end_time": "2021-01-22T18:23:29.869348Z",
     "start_time": "2021-01-22T18:21:05.999276Z"
    }
   },
   "outputs": [
    {
     "data": {
      "text/html": [
       "<div>\n",
       "<style scoped>\n",
       "    .dataframe tbody tr th:only-of-type {\n",
       "        vertical-align: middle;\n",
       "    }\n",
       "\n",
       "    .dataframe tbody tr th {\n",
       "        vertical-align: top;\n",
       "    }\n",
       "\n",
       "    .dataframe thead th {\n",
       "        text-align: right;\n",
       "    }\n",
       "</style>\n",
       "<table border=\"1\" class=\"dataframe\">\n",
       "  <thead>\n",
       "    <tr style=\"text-align: right;\">\n",
       "      <th></th>\n",
       "      <th>NOME</th>\n",
       "      <th>VALOR</th>\n",
       "      <th>DETALHES</th>\n",
       "      <th>ENDEREÇO</th>\n",
       "    </tr>\n",
       "  </thead>\n",
       "  <tbody>\n",
       "    <tr>\n",
       "      <th>0</th>\n",
       "      <td>LC - Apartamento em Ponta Negra!</td>\n",
       "      <td>R$ 1.500</td>\n",
       "      <td>[2 quartos ,  58m² ,  1 vaga]</td>\n",
       "      <td>Ponta Negra</td>\n",
       "    </tr>\n",
       "    <tr>\n",
       "      <th>1</th>\n",
       "      <td>Alugo apartamento no Alecrim, sua casa no cent...</td>\n",
       "      <td>R$ 650</td>\n",
       "      <td>[2 quartos ,  50m²]</td>\n",
       "      <td>Alecrim</td>\n",
       "    </tr>\n",
       "    <tr>\n",
       "      <th>2</th>\n",
       "      <td>LCAP2201 - Ótimo apartamento em Tirol!</td>\n",
       "      <td>R$ 3.600</td>\n",
       "      <td>[2 quartos ,  200m² ,  2 vagas]</td>\n",
       "      <td>Barro Vermelho</td>\n",
       "    </tr>\n",
       "    <tr>\n",
       "      <th>3</th>\n",
       "      <td>Kitnet UFRN cidade jardim capim macio</td>\n",
       "      <td>R$ 800</td>\n",
       "      <td></td>\n",
       "      <td>Capim Macio</td>\n",
       "    </tr>\n",
       "    <tr>\n",
       "      <th>4</th>\n",
       "      <td>Kitinet excelente localização Ponta Negra</td>\n",
       "      <td>R$ 2.500</td>\n",
       "      <td>[1 quarto ,  14m² ,  Condomínio: R$ 0]</td>\n",
       "      <td>Ponta Negra</td>\n",
       "    </tr>\n",
       "  </tbody>\n",
       "</table>\n",
       "</div>"
      ],
      "text/plain": [
       "                                                NOME     VALOR  \\\n",
       "0                   LC - Apartamento em Ponta Negra!  R$ 1.500   \n",
       "1  Alugo apartamento no Alecrim, sua casa no cent...    R$ 650   \n",
       "2             LCAP2201 - Ótimo apartamento em Tirol!  R$ 3.600   \n",
       "3              Kitnet UFRN cidade jardim capim macio    R$ 800   \n",
       "4          Kitinet excelente localização Ponta Negra  R$ 2.500   \n",
       "\n",
       "                                 DETALHES        ENDEREÇO  \n",
       "0           [2 quartos ,  58m² ,  1 vaga]     Ponta Negra  \n",
       "1                     [2 quartos ,  50m²]         Alecrim  \n",
       "2         [2 quartos ,  200m² ,  2 vagas]  Barro Vermelho  \n",
       "3                                             Capim Macio  \n",
       "4  [1 quarto ,  14m² ,  Condomínio: R$ 0]     Ponta Negra  "
      ]
     },
     "execution_count": 6,
     "metadata": {},
     "output_type": "execute_result"
    }
   ],
   "source": [
    "# scraping\n",
    "pages = 29\n",
    "\n",
    "# list, receiver of info from each renting ad, as a dictionaire\n",
    "cards = []\n",
    "\n",
    "for i in range(pages):\n",
    "    # requesting html\n",
    "    headers = {'user-agent': 'Mozilla/5.0 (Windows NT 10.0; Win64; x64) AppleWebKit/537.36 (KHTML, like Gecko) Chrome/84.0.4147.105 Safari/537.36'}\n",
    "    req = Request('https://rn.olx.com.br/rio-grande-do-norte/natal/imoveis/aluguel/apartamentos?o=' + str(i + 1), headers=headers)\n",
    "    response = urlopen(req)\n",
    "    html = response.read().decode('utf-8')\n",
    "    \n",
    "    # scraper\n",
    "    soup = BeautifulSoup(html, 'html.parser')\n",
    "    anuncios = soup.find('div', {\"id\": \"column-main-content\"}).findAll('div', class_=\"fnmrjs-2 jiSLYe\")\n",
    "    \n",
    "    for anuncio in anuncios:\n",
    "        card = {}\n",
    "        \n",
    "        # name\n",
    "        card['NOME'] = anuncio.find(\"h2\").getText()\n",
    "        \n",
    "        # value\n",
    "        span_valor = anuncio.find(\"span\", class_=\"sc-ifAKCX eoKYee\")\n",
    "        card[\"VALOR\"] = span_valor.get_text() if span_valor else ''\n",
    "        \n",
    "        # details\n",
    "        span_detalhe = anuncio.find(\"span\", class_=\"sc-1j5op1p-0 lnqdIU sc-ifAKCX eLPYJb\")\n",
    "        card['DETALHES'] = span_detalhe.get_text().split('|') if span_detalhe else ''\n",
    "        \n",
    "        # address\n",
    "        span_endereco = anuncio.find('span', class_=\"sc-7l84qu-1 ciykCV sc-ifAKCX dpURtf\")\n",
    "        card['ENDEREÇO'] = span_endereco.getText().split(', ')[1] if span_endereco else ''\n",
    "        \n",
    "        # appending list values to dict\n",
    "        cards.append(card)    \n",
    "    \n",
    "# saving csv (or json, )\n",
    "df_raw = pd.DataFrame(cards)\n",
    "df_raw.head()"
   ]
  },
  {
   "cell_type": "code",
   "execution_count": 21,
   "metadata": {
    "ExecuteTime": {
     "end_time": "2021-01-22T18:25:43.457226Z",
     "start_time": "2021-01-22T18:25:43.427244Z"
    }
   },
   "outputs": [],
   "source": [
    "df_raw.to_csv('df_raw.csv')"
   ]
  },
  {
   "cell_type": "code",
   "execution_count": 55,
   "metadata": {
    "ExecuteTime": {
     "end_time": "2021-01-22T19:01:13.693593Z",
     "start_time": "2021-01-22T19:01:13.659614Z"
    }
   },
   "outputs": [
    {
     "data": {
      "text/plain": [
       "0                         [2 quartos ,  58m² ,  1 vaga]\n",
       "1                                   [2 quartos ,  50m²]\n",
       "2                       [2 quartos ,  200m² ,  2 vagas]\n",
       "3                                                      \n",
       "4                [1 quarto ,  14m² ,  Condomínio: R$ 0]\n",
       "5                                  [1 quarto ,  1 vaga]\n",
       "6                                  [1 quarto ,  1 vaga]\n",
       "7      [1 quarto ,  30m² ,  Condomínio: R$ 0 ,  1 vaga]\n",
       "8     [2 quartos ,  61m² ,  Condomínio: R$ 595 ,  1 ...\n",
       "9     [2 quartos ,  43m² ,  Condomínio: R$ 0 ,  1 vaga]\n",
       "10                        [2 quartos ,  76m² ,  1 vaga]\n",
       "11            [2 quartos ,  Condomínio: R$ 0 ,  1 vaga]\n",
       "12                                   [2 quartos ,  0m²]\n",
       "13                        [2 quartos ,  57m² ,  1 vaga]\n",
       "14    [2 quartos ,  49m² ,  Condomínio: R$ 0 ,  1 vaga]\n",
       "15                         [2 quartos ,  0m² ,  1 vaga]\n",
       "16                         [2 quartos ,  0m² ,  1 vaga]\n",
       "17                        [2 quartos ,  57m² ,  1 vaga]\n",
       "18                         [2 quartos ,  0m² ,  1 vaga]\n",
       "19                        [2 quartos ,  56m² ,  1 vaga]\n",
       "20    [3 quartos ,  78m² ,  Condomínio: R$ 0 ,  2 va...\n",
       "21                                 [1 quarto ,  1 vaga]\n",
       "22    [2 quartos ,  55m² ,  Condomínio: R$ 0 ,  1 vaga]\n",
       "23                        [2 quartos ,  56m² ,  1 vaga]\n",
       "24    [2 quartos ,  77m² ,  Condomínio: R$ 0 ,  2 va...\n",
       "25                                    [1 quarto ,  0m²]\n",
       "26     [1 quarto ,  50m² ,  Condomínio: R$ 0 ,  1 vaga]\n",
       "27    [3 quartos ,  85m² ,  Condomínio: R$ 150 ,  1 ...\n",
       "28                        [2 quartos ,  55m² ,  1 vaga]\n",
       "29                                   [1 quarto ,  33m²]\n",
       "30                       [3 quartos ,  92m² ,  2 vagas]\n",
       "31    [1 quarto ,  40m² ,  Condomínio: R$ 160 ,  1 v...\n",
       "32                        [2 quartos ,  46m² ,  1 vaga]\n",
       "33    [2 quartos ,  45m² ,  Condomínio: R$ 190 ,  1 ...\n",
       "34    [2 quartos ,  58m² ,  Condomínio: R$ 225 ,  1 ...\n",
       "35    [2 quartos ,  61m² ,  Condomínio: R$ 440 ,  1 ...\n",
       "36    [2 quartos ,  60m² ,  Condomínio: R$ 200 ,  1 ...\n",
       "37                        [3 quartos ,  87m² ,  1 vaga]\n",
       "38                         [1 quarto ,  30m² ,  1 vaga]\n",
       "39    [1 quarto ,  50m² ,  Condomínio: R$ 250 ,  1 v...\n",
       "Name: DETALHES, dtype: object"
      ]
     },
     "execution_count": 55,
     "metadata": {},
     "output_type": "execute_result"
    }
   ],
   "source": [
    "df_raw['DETALHES'].head(40)"
   ]
  },
  {
   "cell_type": "markdown",
   "metadata": {},
   "source": [
    "# Data Cleaning"
   ]
  },
  {
   "cell_type": "code",
   "execution_count": 58,
   "metadata": {
    "ExecuteTime": {
     "end_time": "2021-01-22T19:02:22.780822Z",
     "start_time": "2021-01-22T19:02:22.774825Z"
    }
   },
   "outputs": [],
   "source": [
    "df1 = df_raw.copy()"
   ]
  },
  {
   "cell_type": "code",
   "execution_count": 59,
   "metadata": {
    "ExecuteTime": {
     "end_time": "2021-01-22T19:02:23.277408Z",
     "start_time": "2021-01-22T19:02:23.267416Z"
    }
   },
   "outputs": [
    {
     "data": {
      "text/plain": [
       "(1448, 4)"
      ]
     },
     "execution_count": 59,
     "metadata": {},
     "output_type": "execute_result"
    }
   ],
   "source": [
    "df1.shape"
   ]
  },
  {
   "cell_type": "code",
   "execution_count": 60,
   "metadata": {
    "ExecuteTime": {
     "end_time": "2021-01-22T19:02:23.774598Z",
     "start_time": "2021-01-22T19:02:23.760605Z"
    }
   },
   "outputs": [
    {
     "data": {
      "text/plain": [
       "NOME        object\n",
       "VALOR       object\n",
       "DETALHES    object\n",
       "ENDEREÇO    object\n",
       "dtype: object"
      ]
     },
     "execution_count": 60,
     "metadata": {},
     "output_type": "execute_result"
    }
   ],
   "source": [
    "df1.dtypes"
   ]
  },
  {
   "cell_type": "markdown",
   "metadata": {},
   "source": [
    "### Regex em DETALHES"
   ]
  },
  {
   "cell_type": "code",
   "execution_count": 61,
   "metadata": {
    "ExecuteTime": {
     "end_time": "2021-01-22T19:02:25.073660Z",
     "start_time": "2021-01-22T19:02:24.909586Z"
    }
   },
   "outputs": [
    {
     "data": {
      "text/html": [
       "<div>\n",
       "<style scoped>\n",
       "    .dataframe tbody tr th:only-of-type {\n",
       "        vertical-align: middle;\n",
       "    }\n",
       "\n",
       "    .dataframe tbody tr th {\n",
       "        vertical-align: top;\n",
       "    }\n",
       "\n",
       "    .dataframe thead th {\n",
       "        text-align: right;\n",
       "    }\n",
       "</style>\n",
       "<table border=\"1\" class=\"dataframe\">\n",
       "  <thead>\n",
       "    <tr style=\"text-align: right;\">\n",
       "      <th></th>\n",
       "      <th>NOME</th>\n",
       "      <th>VALOR</th>\n",
       "      <th>DETALHES</th>\n",
       "      <th>ENDEREÇO</th>\n",
       "      <th>QUARTOS</th>\n",
       "      <th>AREA</th>\n",
       "      <th>CONDOMINIO</th>\n",
       "      <th>VAGAS</th>\n",
       "    </tr>\n",
       "  </thead>\n",
       "  <tbody>\n",
       "    <tr>\n",
       "      <th>0</th>\n",
       "      <td>LC - Apartamento em Ponta Negra!</td>\n",
       "      <td>R$ 1.500</td>\n",
       "      <td>[2 quartos ,  58m² ,  1 vaga]</td>\n",
       "      <td>Ponta Negra</td>\n",
       "      <td>[2 quartos]</td>\n",
       "      <td>[58m²]</td>\n",
       "      <td>[]</td>\n",
       "      <td>[1 vaga]</td>\n",
       "    </tr>\n",
       "    <tr>\n",
       "      <th>1</th>\n",
       "      <td>Alugo apartamento no Alecrim, sua casa no cent...</td>\n",
       "      <td>R$ 650</td>\n",
       "      <td>[2 quartos ,  50m²]</td>\n",
       "      <td>Alecrim</td>\n",
       "      <td>[2 quartos]</td>\n",
       "      <td>[50m²]</td>\n",
       "      <td>[]</td>\n",
       "      <td>[]</td>\n",
       "    </tr>\n",
       "    <tr>\n",
       "      <th>2</th>\n",
       "      <td>LCAP2201 - Ótimo apartamento em Tirol!</td>\n",
       "      <td>R$ 3.600</td>\n",
       "      <td>[2 quartos ,  200m² ,  2 vagas]</td>\n",
       "      <td>Barro Vermelho</td>\n",
       "      <td>[2 quartos]</td>\n",
       "      <td>[200m²]</td>\n",
       "      <td>[]</td>\n",
       "      <td>[2 vagas]</td>\n",
       "    </tr>\n",
       "    <tr>\n",
       "      <th>3</th>\n",
       "      <td>Kitnet UFRN cidade jardim capim macio</td>\n",
       "      <td>R$ 800</td>\n",
       "      <td></td>\n",
       "      <td>Capim Macio</td>\n",
       "      <td>[]</td>\n",
       "      <td>[]</td>\n",
       "      <td>[]</td>\n",
       "      <td>[]</td>\n",
       "    </tr>\n",
       "    <tr>\n",
       "      <th>4</th>\n",
       "      <td>Kitinet excelente localização Ponta Negra</td>\n",
       "      <td>R$ 2.500</td>\n",
       "      <td>[1 quarto ,  14m² ,  Condomínio: R$ 0]</td>\n",
       "      <td>Ponta Negra</td>\n",
       "      <td>[1 quarto]</td>\n",
       "      <td>[14m²]</td>\n",
       "      <td>[Condomínio: R$ 0]</td>\n",
       "      <td>[]</td>\n",
       "    </tr>\n",
       "  </tbody>\n",
       "</table>\n",
       "</div>"
      ],
      "text/plain": [
       "                                                NOME     VALOR                                DETALHES        ENDEREÇO      QUARTOS     AREA          CONDOMINIO      VAGAS\n",
       "0                   LC - Apartamento em Ponta Negra!  R$ 1.500           [2 quartos ,  58m² ,  1 vaga]     Ponta Negra  [2 quartos]   [58m²]                  []   [1 vaga]\n",
       "1  Alugo apartamento no Alecrim, sua casa no cent...    R$ 650                     [2 quartos ,  50m²]         Alecrim  [2 quartos]   [50m²]                  []         []\n",
       "2             LCAP2201 - Ótimo apartamento em Tirol!  R$ 3.600         [2 quartos ,  200m² ,  2 vagas]  Barro Vermelho  [2 quartos]  [200m²]                  []  [2 vagas]\n",
       "3              Kitnet UFRN cidade jardim capim macio    R$ 800                                             Capim Macio           []       []                  []         []\n",
       "4          Kitinet excelente localização Ponta Negra  R$ 2.500  [1 quarto ,  14m² ,  Condomínio: R$ 0]     Ponta Negra   [1 quarto]   [14m²]  [Condomínio: R$ 0]         []"
      ]
     },
     "execution_count": 61,
     "metadata": {},
     "output_type": "execute_result"
    }
   ],
   "source": [
    "# lambda functions and mapping the column DETALHES to separate each section\n",
    "f_quarto = lambda x: re.findall('[0-9]+ quartos?', str(x))\n",
    "f_area = lambda x: re.findall('[0-9]+m²', str(x))\n",
    "f_condominio = lambda x: re.findall('Condomínio: R\\$\\ [0-9]+', str(x))\n",
    "f_vaga = lambda x: re.findall('[0-9]+ vagas?', str(x))\n",
    "\n",
    "df1['QUARTOS'] = list(map(f_quarto, df1['DETALHES']))\n",
    "df1['AREA'] = list(map(f_area, df1['DETALHES']))\n",
    "df1['CONDOMINIO'] = list(map(f_condominio, df1['DETALHES']))\n",
    "df1['VAGAS'] = list(map(f_vaga, df1['DETALHES']))\n",
    "\n",
    "df1.head()"
   ]
  },
  {
   "cell_type": "code",
   "execution_count": 113,
   "metadata": {
    "ExecuteTime": {
     "end_time": "2021-01-22T19:27:07.696489Z",
     "start_time": "2021-01-22T19:27:06.543204Z"
    }
   },
   "outputs": [
    {
     "data": {
      "text/html": [
       "<div>\n",
       "<style scoped>\n",
       "    .dataframe tbody tr th:only-of-type {\n",
       "        vertical-align: middle;\n",
       "    }\n",
       "\n",
       "    .dataframe tbody tr th {\n",
       "        vertical-align: top;\n",
       "    }\n",
       "\n",
       "    .dataframe thead th {\n",
       "        text-align: right;\n",
       "    }\n",
       "</style>\n",
       "<table border=\"1\" class=\"dataframe\">\n",
       "  <thead>\n",
       "    <tr style=\"text-align: right;\">\n",
       "      <th></th>\n",
       "      <th>NOME</th>\n",
       "      <th>VALOR</th>\n",
       "      <th>DETALHES</th>\n",
       "      <th>ENDEREÇO</th>\n",
       "      <th>QUARTOS</th>\n",
       "      <th>AREA</th>\n",
       "      <th>CONDOMINIO</th>\n",
       "      <th>VAGAS</th>\n",
       "    </tr>\n",
       "  </thead>\n",
       "  <tbody>\n",
       "    <tr>\n",
       "      <th>0</th>\n",
       "      <td>LC - Apartamento em Ponta Negra!</td>\n",
       "      <td>[1, 500]</td>\n",
       "      <td>[2 quartos ,  58m² ,  1 vaga]</td>\n",
       "      <td>Ponta Negra</td>\n",
       "      <td>[2]</td>\n",
       "      <td>[58]</td>\n",
       "      <td>[]</td>\n",
       "      <td>[1]</td>\n",
       "    </tr>\n",
       "    <tr>\n",
       "      <th>1</th>\n",
       "      <td>Alugo apartamento no Alecrim, sua casa no cent...</td>\n",
       "      <td>[650]</td>\n",
       "      <td>[2 quartos ,  50m²]</td>\n",
       "      <td>Alecrim</td>\n",
       "      <td>[2]</td>\n",
       "      <td>[50]</td>\n",
       "      <td>[]</td>\n",
       "      <td>[]</td>\n",
       "    </tr>\n",
       "    <tr>\n",
       "      <th>2</th>\n",
       "      <td>LCAP2201 - Ótimo apartamento em Tirol!</td>\n",
       "      <td>[3, 600]</td>\n",
       "      <td>[2 quartos ,  200m² ,  2 vagas]</td>\n",
       "      <td>Barro Vermelho</td>\n",
       "      <td>[2]</td>\n",
       "      <td>[200]</td>\n",
       "      <td>[]</td>\n",
       "      <td>[2]</td>\n",
       "    </tr>\n",
       "    <tr>\n",
       "      <th>3</th>\n",
       "      <td>Kitnet UFRN cidade jardim capim macio</td>\n",
       "      <td>[800]</td>\n",
       "      <td></td>\n",
       "      <td>Capim Macio</td>\n",
       "      <td>[]</td>\n",
       "      <td>[]</td>\n",
       "      <td>[]</td>\n",
       "      <td>[]</td>\n",
       "    </tr>\n",
       "    <tr>\n",
       "      <th>4</th>\n",
       "      <td>Kitinet excelente localização Ponta Negra</td>\n",
       "      <td>[2, 500]</td>\n",
       "      <td>[1 quarto ,  14m² ,  Condomínio: R$ 0]</td>\n",
       "      <td>Ponta Negra</td>\n",
       "      <td>[1]</td>\n",
       "      <td>[14]</td>\n",
       "      <td>[0]</td>\n",
       "      <td>[]</td>\n",
       "    </tr>\n",
       "  </tbody>\n",
       "</table>\n",
       "</div>"
      ],
      "text/plain": [
       "                                                NOME     VALOR                                DETALHES        ENDEREÇO QUARTOS   AREA CONDOMINIO VAGAS\n",
       "0                   LC - Apartamento em Ponta Negra!  [1, 500]           [2 quartos ,  58m² ,  1 vaga]     Ponta Negra     [2]   [58]         []   [1]\n",
       "1  Alugo apartamento no Alecrim, sua casa no cent...     [650]                     [2 quartos ,  50m²]         Alecrim     [2]   [50]         []    []\n",
       "2             LCAP2201 - Ótimo apartamento em Tirol!  [3, 600]         [2 quartos ,  200m² ,  2 vagas]  Barro Vermelho     [2]  [200]         []   [2]\n",
       "3              Kitnet UFRN cidade jardim capim macio     [800]                                             Capim Macio      []     []         []    []\n",
       "4          Kitinet excelente localização Ponta Negra  [2, 500]  [1 quarto ,  14m² ,  Condomínio: R$ 0]     Ponta Negra     [1]   [14]        [0]    []"
      ]
     },
     "execution_count": 113,
     "metadata": {},
     "output_type": "execute_result"
    }
   ],
   "source": [
    "# lambda function and mapping to extract the number to count each feature\n",
    "f1_quarto = lambda x: re.findall('[0-9]+', str(x))\n",
    "f1_area = lambda x: re.findall('[0-9]+', str(x))\n",
    "f1_condominio = lambda x: re.findall('[0-9]+', str(x))\n",
    "f1_vaga = lambda x: re.findall('[0-9]+', str(x))\n",
    "f1_valor = lambda x: re.findall('[0-9]+', str(x))\n",
    "\n",
    "df1['QUARTOS'] =  list(map(f1_quarto, df1['QUARTOS']))\n",
    "df1['AREA'] = list(map(f1_area, df1['AREA']))\n",
    "df1['CONDOMINIO'] = list(map(f1_condominio, df1['CONDOMINIO']))\n",
    "df1['VAGAS'] = list(map(f1_vaga, df1['VAGAS']))\n",
    "df1['VALOR'] = list(map(f1_valor, df1['VALOR']))\n",
    "\n",
    "df1.head()"
   ]
  },
  {
   "cell_type": "markdown",
   "metadata": {},
   "source": [
    "### Cleaning Helper Functions"
   ]
  },
  {
   "cell_type": "code",
   "execution_count": 63,
   "metadata": {
    "ExecuteTime": {
     "end_time": "2021-01-22T19:02:27.491226Z",
     "start_time": "2021-01-22T19:02:27.471238Z"
    }
   },
   "outputs": [],
   "source": [
    "def list_quartos(n):\n",
    "    # lista com numeros de quartos\n",
    "    lst = []\n",
    "    \n",
    "    # iterando as strings com valores de numeros de quarto\n",
    "    for i in n:\n",
    "        if len(i)>3:\n",
    "            lst.append(i[-3])\n",
    "        else:\n",
    "            lst.append('1') #valores vazios são interpretados como kitnets e insere-se 1 quarto\n",
    "    \n",
    "    # convertendo o valor numerico de str para numero\n",
    "    lst = pd.Series(pd.to_numeric(lst))\n",
    "    \n",
    "    return lst\n",
    "\n",
    "def list_vagas(n):\n",
    "    # lista com numeros de vagas\n",
    "    lst = []\n",
    "    \n",
    "    # iterando as strings com valores de numeros de quarto\n",
    "    for i in n:\n",
    "        if len(i)>3:\n",
    "            lst.append(i[-3])\n",
    "        else:\n",
    "            lst.append('0') #valores vazios são interpretados como 0 vaga\n",
    "    \n",
    "    # convertendo o valor em str para numerico int\n",
    "    lst = pd.Series(pd.to_numeric(lst))\n",
    "    \n",
    "    return lst\n",
    "\n",
    "def list_cond(n):\n",
    "    # lista com valores de condominio\n",
    "    lst = []\n",
    "    \n",
    "    # iterando as strings com valores de condominio\n",
    "    for i in n:\n",
    "        if len(i)>2:\n",
    "            lst.append(''.join(re.findall('[0-9]+', i)))\n",
    "        else:\n",
    "            lst.append(0)\n",
    "    \n",
    "    # convertendo os valores em str para numerico int\n",
    "    lst = pd.Series(pd.to_numeric(lst))\n",
    "    \n",
    "    return lst\n",
    "\n",
    "def list_area(n):\n",
    "    # lista com valores de area\n",
    "    lst = []\n",
    "    \n",
    "    # iterando as strings com valores de area\n",
    "    for i in n:\n",
    "        if len(i)>2:\n",
    "            lst.append(''.join(re.findall('[0-9]+', i)))\n",
    "        else:\n",
    "            lst.append(0)\n",
    "    \n",
    "    # convertendo os valores em str para numerico int\n",
    "    lst = pd.Series(pd.to_numeric(lst))\n",
    "    \n",
    "    return lst"
   ]
  },
  {
   "cell_type": "markdown",
   "metadata": {},
   "source": [
    "### Quartos"
   ]
  },
  {
   "cell_type": "code",
   "execution_count": 13,
   "metadata": {
    "ExecuteTime": {
     "end_time": "2021-01-22T18:24:11.471928Z",
     "start_time": "2021-01-22T18:24:11.452938Z"
    }
   },
   "outputs": [
    {
     "data": {
      "text/plain": [
       "0       2\n",
       "1       2\n",
       "2       2\n",
       "3       1\n",
       "4       1\n",
       "       ..\n",
       "1443    3\n",
       "1444    2\n",
       "1445    1\n",
       "1446    4\n",
       "1447    2\n",
       "Length: 1448, dtype: int64"
      ]
     },
     "execution_count": 13,
     "metadata": {},
     "output_type": "execute_result"
    }
   ],
   "source": [
    "list_quartos(df1['QUARTOS'].astype(str))"
   ]
  },
  {
   "cell_type": "markdown",
   "metadata": {},
   "source": [
    "### Vagas"
   ]
  },
  {
   "cell_type": "code",
   "execution_count": 14,
   "metadata": {
    "ExecuteTime": {
     "end_time": "2021-01-22T18:24:12.964264Z",
     "start_time": "2021-01-22T18:24:12.942278Z"
    }
   },
   "outputs": [
    {
     "data": {
      "text/plain": [
       "0       1\n",
       "1       0\n",
       "2       2\n",
       "3       0\n",
       "4       0\n",
       "       ..\n",
       "1443    2\n",
       "1444    1\n",
       "1445    0\n",
       "1446    3\n",
       "1447    0\n",
       "Length: 1448, dtype: int64"
      ]
     },
     "execution_count": 14,
     "metadata": {},
     "output_type": "execute_result"
    }
   ],
   "source": [
    "list_vagas(df1['VAGAS'].astype(str))"
   ]
  },
  {
   "cell_type": "markdown",
   "metadata": {},
   "source": [
    "### Condominio"
   ]
  },
  {
   "cell_type": "code",
   "execution_count": 68,
   "metadata": {
    "ExecuteTime": {
     "end_time": "2021-01-22T19:03:18.590694Z",
     "start_time": "2021-01-22T19:03:18.568708Z"
    }
   },
   "outputs": [
    {
     "data": {
      "text/plain": [
       "0       0\n",
       "1       0\n",
       "2       0\n",
       "3       0\n",
       "4       0\n",
       "       ..\n",
       "1443    0\n",
       "1444    0\n",
       "1445    0\n",
       "1446    0\n",
       "1447    0\n",
       "Length: 1448, dtype: int64"
      ]
     },
     "execution_count": 68,
     "metadata": {},
     "output_type": "execute_result"
    }
   ],
   "source": [
    "list_cond(df1['CONDOMINIO'].astype(str))"
   ]
  },
  {
   "cell_type": "markdown",
   "metadata": {},
   "source": [
    "### Área"
   ]
  },
  {
   "cell_type": "code",
   "execution_count": 16,
   "metadata": {
    "ExecuteTime": {
     "end_time": "2021-01-22T18:24:16.017516Z",
     "start_time": "2021-01-22T18:24:15.988534Z"
    }
   },
   "outputs": [
    {
     "data": {
      "text/plain": [
       "0        58\n",
       "1        50\n",
       "2       200\n",
       "3         0\n",
       "4        14\n",
       "       ... \n",
       "1443      0\n",
       "1444     46\n",
       "1445     18\n",
       "1446    176\n",
       "1447     57\n",
       "Length: 1448, dtype: int64"
      ]
     },
     "execution_count": 16,
     "metadata": {},
     "output_type": "execute_result"
    }
   ],
   "source": [
    "list_area(df1['AREA'].astype(str))"
   ]
  },
  {
   "cell_type": "markdown",
   "metadata": {},
   "source": [
    "### Valor"
   ]
  },
  {
   "cell_type": "code",
   "execution_count": null,
   "metadata": {},
   "outputs": [],
   "source": []
  },
  {
   "cell_type": "code",
   "execution_count": 109,
   "metadata": {
    "ExecuteTime": {
     "end_time": "2021-01-22T19:25:23.930149Z",
     "start_time": "2021-01-22T19:25:23.872183Z"
    }
   },
   "outputs": [
    {
     "data": {
      "text/html": [
       "<div>\n",
       "<style scoped>\n",
       "    .dataframe tbody tr th:only-of-type {\n",
       "        vertical-align: middle;\n",
       "    }\n",
       "\n",
       "    .dataframe tbody tr th {\n",
       "        vertical-align: top;\n",
       "    }\n",
       "\n",
       "    .dataframe thead th {\n",
       "        text-align: right;\n",
       "    }\n",
       "</style>\n",
       "<table border=\"1\" class=\"dataframe\">\n",
       "  <thead>\n",
       "    <tr style=\"text-align: right;\">\n",
       "      <th></th>\n",
       "      <th>NOME</th>\n",
       "      <th>ENDERECO</th>\n",
       "      <th>QUARTOS</th>\n",
       "      <th>VAGAS</th>\n",
       "      <th>CONDOMINIO</th>\n",
       "      <th>AREA</th>\n",
       "      <th>VALOR</th>\n",
       "    </tr>\n",
       "  </thead>\n",
       "  <tbody>\n",
       "    <tr>\n",
       "      <th>0</th>\n",
       "      <td>LC - Apartamento em Ponta Negra!</td>\n",
       "      <td>Ponta Negra</td>\n",
       "      <td>2</td>\n",
       "      <td>1</td>\n",
       "      <td>0</td>\n",
       "      <td>58</td>\n",
       "      <td>R$ 1.500</td>\n",
       "    </tr>\n",
       "    <tr>\n",
       "      <th>1</th>\n",
       "      <td>Alugo apartamento no Alecrim, sua casa no cent...</td>\n",
       "      <td>Alecrim</td>\n",
       "      <td>2</td>\n",
       "      <td>0</td>\n",
       "      <td>0</td>\n",
       "      <td>50</td>\n",
       "      <td>R$ 650</td>\n",
       "    </tr>\n",
       "    <tr>\n",
       "      <th>2</th>\n",
       "      <td>LCAP2201 - Ótimo apartamento em Tirol!</td>\n",
       "      <td>Barro Vermelho</td>\n",
       "      <td>2</td>\n",
       "      <td>2</td>\n",
       "      <td>0</td>\n",
       "      <td>200</td>\n",
       "      <td>R$ 3.600</td>\n",
       "    </tr>\n",
       "    <tr>\n",
       "      <th>3</th>\n",
       "      <td>Kitnet UFRN cidade jardim capim macio</td>\n",
       "      <td>Capim Macio</td>\n",
       "      <td>1</td>\n",
       "      <td>0</td>\n",
       "      <td>0</td>\n",
       "      <td>0</td>\n",
       "      <td>R$ 800</td>\n",
       "    </tr>\n",
       "    <tr>\n",
       "      <th>4</th>\n",
       "      <td>Kitinet excelente localização Ponta Negra</td>\n",
       "      <td>Ponta Negra</td>\n",
       "      <td>1</td>\n",
       "      <td>0</td>\n",
       "      <td>0</td>\n",
       "      <td>14</td>\n",
       "      <td>R$ 2.500</td>\n",
       "    </tr>\n",
       "  </tbody>\n",
       "</table>\n",
       "</div>"
      ],
      "text/plain": [
       "                                                NOME        ENDERECO  QUARTOS  VAGAS  CONDOMINIO  AREA     VALOR\n",
       "0                   LC - Apartamento em Ponta Negra!     Ponta Negra        2      1           0    58  R$ 1.500\n",
       "1  Alugo apartamento no Alecrim, sua casa no cent...         Alecrim        2      0           0    50    R$ 650\n",
       "2             LCAP2201 - Ótimo apartamento em Tirol!  Barro Vermelho        2      2           0   200  R$ 3.600\n",
       "3              Kitnet UFRN cidade jardim capim macio     Capim Macio        1      0           0     0    R$ 800\n",
       "4          Kitinet excelente localização Ponta Negra     Ponta Negra        1      0           0    14  R$ 2.500"
      ]
     },
     "execution_count": 109,
     "metadata": {},
     "output_type": "execute_result"
    }
   ],
   "source": [
    "df2 = pd.DataFrame()\n",
    "\n",
    "df2['NOME'] = df1['NOME']\n",
    "df2['ENDERECO'] = df1['ENDEREÇO']\n",
    "df2['QUARTOS'] = list_quartos(df1['QUARTOS'].astype(str))\n",
    "df2['VAGAS'] = list_vagas(df1['VAGAS'].astype(str))\n",
    "df2['CONDOMINIO'] = list_cond(df1['CONDOMINIO'].astype(str))\n",
    "df2['AREA'] = list_area(df1['AREA'].astype(str))\n",
    "df2['VALOR'] = df1['VALOR']\n",
    "\n",
    "df2.head()"
   ]
  },
  {
   "cell_type": "code",
   "execution_count": 110,
   "metadata": {
    "ExecuteTime": {
     "end_time": "2021-01-22T19:25:26.883098Z",
     "start_time": "2021-01-22T19:25:26.833128Z"
    }
   },
   "outputs": [],
   "source": [
    "df2.to_csv('df_clean.csv', index=None)"
   ]
  },
  {
   "cell_type": "markdown",
   "metadata": {},
   "source": [
    "# Data Description"
   ]
  },
  {
   "cell_type": "markdown",
   "metadata": {},
   "source": [
    "### Description Helper Functions"
   ]
  },
  {
   "cell_type": "code",
   "execution_count": 69,
   "metadata": {
    "ExecuteTime": {
     "end_time": "2021-01-22T19:03:27.635794Z",
     "start_time": "2021-01-22T19:03:27.621801Z"
    }
   },
   "outputs": [],
   "source": [
    "def num_analysis(num_attributes):\n",
    "    # Cemtral tendency - mean, median\n",
    "    ct1 = pd.DataFrame(num_attributes.apply(np.mean)).T\n",
    "    ct2 = pd.DataFrame(num_attributes.apply(np.median)).T\n",
    "\n",
    "    # Dispersion - std, min, max, range, skew, kurtosis\n",
    "    d1 = pd.DataFrame(num_attributes.apply(np.std)).T\n",
    "    d2 = pd.DataFrame(num_attributes.apply(min)).T\n",
    "    d3 = pd.DataFrame(num_attributes.apply(max)).T\n",
    "    d4 = pd.DataFrame(num_attributes.apply(lambda x: x.max() - x.min())).T\n",
    "    d5 = pd.DataFrame(num_attributes.apply(lambda x: x.skew())).T\n",
    "    d6 = pd.DataFrame(num_attributes.apply(lambda x: x.kurtosis())).T\n",
    "\n",
    "    # concatenate\n",
    "    m = pd.concat([d2,d3,d4,ct1,ct2,d1,d5,d6]).T.reset_index()\n",
    "    m.columns = ['attributes','min','max','range','mean','median','std','skew','kurtosis',]\n",
    "    \n",
    "    # histogram\n",
    "    num_hist = num_attributes.hist(bins=30)\n",
    "    \n",
    "    # DataFrame\n",
    "    return m\n",
    "    \n",
    "    # Histogram\n",
    "    return num_hist"
   ]
  },
  {
   "cell_type": "code",
   "execution_count": 111,
   "metadata": {
    "ExecuteTime": {
     "end_time": "2021-01-22T19:25:31.759429Z",
     "start_time": "2021-01-22T19:25:31.752431Z"
    }
   },
   "outputs": [],
   "source": [
    "df3 = df2.copy()"
   ]
  },
  {
   "cell_type": "code",
   "execution_count": 112,
   "metadata": {
    "ExecuteTime": {
     "end_time": "2021-01-22T19:25:32.333072Z",
     "start_time": "2021-01-22T19:25:32.319081Z"
    }
   },
   "outputs": [
    {
     "data": {
      "text/plain": [
       "NOME          object\n",
       "ENDERECO      object\n",
       "QUARTOS        int64\n",
       "VAGAS          int64\n",
       "CONDOMINIO     int64\n",
       "AREA           int64\n",
       "VALOR         object\n",
       "dtype: object"
      ]
     },
     "execution_count": 112,
     "metadata": {},
     "output_type": "execute_result"
    }
   ],
   "source": [
    "df3.dtypes"
   ]
  },
  {
   "cell_type": "code",
   "execution_count": 72,
   "metadata": {
    "ExecuteTime": {
     "end_time": "2021-01-22T19:03:31.501779Z",
     "start_time": "2021-01-22T19:03:31.475797Z"
    }
   },
   "outputs": [
    {
     "data": {
      "text/html": [
       "<div>\n",
       "<style scoped>\n",
       "    .dataframe tbody tr th:only-of-type {\n",
       "        vertical-align: middle;\n",
       "    }\n",
       "\n",
       "    .dataframe tbody tr th {\n",
       "        vertical-align: top;\n",
       "    }\n",
       "\n",
       "    .dataframe thead th {\n",
       "        text-align: right;\n",
       "    }\n",
       "</style>\n",
       "<table border=\"1\" class=\"dataframe\">\n",
       "  <thead>\n",
       "    <tr style=\"text-align: right;\">\n",
       "      <th></th>\n",
       "      <th>NOME</th>\n",
       "      <th>ENDERECO</th>\n",
       "      <th>QUARTOS</th>\n",
       "      <th>VAGAS</th>\n",
       "      <th>CONDOMINIO</th>\n",
       "      <th>AREA</th>\n",
       "    </tr>\n",
       "  </thead>\n",
       "  <tbody>\n",
       "    <tr>\n",
       "      <th>0</th>\n",
       "      <td>LC - Apartamento em Ponta Negra!</td>\n",
       "      <td>Ponta Negra</td>\n",
       "      <td>2</td>\n",
       "      <td>1</td>\n",
       "      <td>0</td>\n",
       "      <td>58</td>\n",
       "    </tr>\n",
       "    <tr>\n",
       "      <th>1</th>\n",
       "      <td>Alugo apartamento no Alecrim, sua casa no cent...</td>\n",
       "      <td>Alecrim</td>\n",
       "      <td>2</td>\n",
       "      <td>0</td>\n",
       "      <td>0</td>\n",
       "      <td>50</td>\n",
       "    </tr>\n",
       "    <tr>\n",
       "      <th>2</th>\n",
       "      <td>LCAP2201 - Ótimo apartamento em Tirol!</td>\n",
       "      <td>Barro Vermelho</td>\n",
       "      <td>2</td>\n",
       "      <td>2</td>\n",
       "      <td>0</td>\n",
       "      <td>200</td>\n",
       "    </tr>\n",
       "    <tr>\n",
       "      <th>3</th>\n",
       "      <td>Kitnet UFRN cidade jardim capim macio</td>\n",
       "      <td>Capim Macio</td>\n",
       "      <td>1</td>\n",
       "      <td>0</td>\n",
       "      <td>0</td>\n",
       "      <td>0</td>\n",
       "    </tr>\n",
       "    <tr>\n",
       "      <th>4</th>\n",
       "      <td>Kitinet excelente localização Ponta Negra</td>\n",
       "      <td>Ponta Negra</td>\n",
       "      <td>1</td>\n",
       "      <td>0</td>\n",
       "      <td>0</td>\n",
       "      <td>14</td>\n",
       "    </tr>\n",
       "  </tbody>\n",
       "</table>\n",
       "</div>"
      ],
      "text/plain": [
       "                                                NOME        ENDERECO  QUARTOS  VAGAS  CONDOMINIO  AREA\n",
       "0                   LC - Apartamento em Ponta Negra!     Ponta Negra        2      1           0    58\n",
       "1  Alugo apartamento no Alecrim, sua casa no cent...         Alecrim        2      0           0    50\n",
       "2             LCAP2201 - Ótimo apartamento em Tirol!  Barro Vermelho        2      2           0   200\n",
       "3              Kitnet UFRN cidade jardim capim macio     Capim Macio        1      0           0     0\n",
       "4          Kitinet excelente localização Ponta Negra     Ponta Negra        1      0           0    14"
      ]
     },
     "execution_count": 72,
     "metadata": {},
     "output_type": "execute_result"
    }
   ],
   "source": [
    "df3.head()\n",
    "\n",
    "# filter for area less than 200 m²\n",
    "# data description for condominio above R$ 50"
   ]
  },
  {
   "cell_type": "code",
   "execution_count": 85,
   "metadata": {
    "ExecuteTime": {
     "end_time": "2021-01-22T19:12:00.291743Z",
     "start_time": "2021-01-22T19:12:00.279750Z"
    }
   },
   "outputs": [
    {
     "data": {
      "text/plain": [
       "(1390, 6)"
      ]
     },
     "execution_count": 85,
     "metadata": {},
     "output_type": "execute_result"
    }
   ],
   "source": [
    "df3 = df3[(df3['AREA']<=200)]\n",
    "df3.shape"
   ]
  },
  {
   "cell_type": "code",
   "execution_count": 86,
   "metadata": {
    "ExecuteTime": {
     "end_time": "2021-01-22T19:12:01.400913Z",
     "start_time": "2021-01-22T19:12:01.388919Z"
    }
   },
   "outputs": [],
   "source": [
    "num_attributes = df3.select_dtypes(include = ['int64'])\n",
    "cat_attributes = df3.select_dtypes(include = ['object'])"
   ]
  },
  {
   "cell_type": "code",
   "execution_count": 87,
   "metadata": {
    "ExecuteTime": {
     "end_time": "2021-01-22T19:12:05.441435Z",
     "start_time": "2021-01-22T19:12:02.016553Z"
    }
   },
   "outputs": [
    {
     "data": {
      "text/html": [
       "<div>\n",
       "<style scoped>\n",
       "    .dataframe tbody tr th:only-of-type {\n",
       "        vertical-align: middle;\n",
       "    }\n",
       "\n",
       "    .dataframe tbody tr th {\n",
       "        vertical-align: top;\n",
       "    }\n",
       "\n",
       "    .dataframe thead th {\n",
       "        text-align: right;\n",
       "    }\n",
       "</style>\n",
       "<table border=\"1\" class=\"dataframe\">\n",
       "  <thead>\n",
       "    <tr style=\"text-align: right;\">\n",
       "      <th></th>\n",
       "      <th>attributes</th>\n",
       "      <th>min</th>\n",
       "      <th>max</th>\n",
       "      <th>range</th>\n",
       "      <th>mean</th>\n",
       "      <th>median</th>\n",
       "      <th>std</th>\n",
       "      <th>skew</th>\n",
       "      <th>kurtosis</th>\n",
       "    </tr>\n",
       "  </thead>\n",
       "  <tbody>\n",
       "    <tr>\n",
       "      <th>0</th>\n",
       "      <td>QUARTOS</td>\n",
       "      <td>1.0</td>\n",
       "      <td>4.0</td>\n",
       "      <td>3.0</td>\n",
       "      <td>2.028777</td>\n",
       "      <td>2.0</td>\n",
       "      <td>0.786966</td>\n",
       "      <td>0.277289</td>\n",
       "      <td>-0.596720</td>\n",
       "    </tr>\n",
       "    <tr>\n",
       "      <th>1</th>\n",
       "      <td>VAGAS</td>\n",
       "      <td>0.0</td>\n",
       "      <td>4.0</td>\n",
       "      <td>4.0</td>\n",
       "      <td>1.031655</td>\n",
       "      <td>1.0</td>\n",
       "      <td>0.749392</td>\n",
       "      <td>0.595237</td>\n",
       "      <td>0.622742</td>\n",
       "    </tr>\n",
       "    <tr>\n",
       "      <th>2</th>\n",
       "      <td>CONDOMINIO</td>\n",
       "      <td>0.0</td>\n",
       "      <td>950.0</td>\n",
       "      <td>950.0</td>\n",
       "      <td>73.852518</td>\n",
       "      <td>0.0</td>\n",
       "      <td>180.461963</td>\n",
       "      <td>2.493657</td>\n",
       "      <td>5.430296</td>\n",
       "    </tr>\n",
       "    <tr>\n",
       "      <th>3</th>\n",
       "      <td>AREA</td>\n",
       "      <td>0.0</td>\n",
       "      <td>200.0</td>\n",
       "      <td>200.0</td>\n",
       "      <td>55.794245</td>\n",
       "      <td>56.0</td>\n",
       "      <td>39.655016</td>\n",
       "      <td>0.793654</td>\n",
       "      <td>1.327402</td>\n",
       "    </tr>\n",
       "  </tbody>\n",
       "</table>\n",
       "</div>"
      ],
      "text/plain": [
       "   attributes  min    max  range       mean  median         std      skew  kurtosis\n",
       "0     QUARTOS  1.0    4.0    3.0   2.028777     2.0    0.786966  0.277289 -0.596720\n",
       "1       VAGAS  0.0    4.0    4.0   1.031655     1.0    0.749392  0.595237  0.622742\n",
       "2  CONDOMINIO  0.0  950.0  950.0  73.852518     0.0  180.461963  2.493657  5.430296\n",
       "3        AREA  0.0  200.0  200.0  55.794245    56.0   39.655016  0.793654  1.327402"
      ]
     },
     "execution_count": 87,
     "metadata": {},
     "output_type": "execute_result"
    },
    {
     "data": {
      "image/png": "[encoded data removed]",
      "text/plain": [
       "<Figure size 1800x864 with 4 Axes>"
      ]
     },
     "metadata": {},
     "output_type": "display_data"
    }
   ],
   "source": [
    "num_analysis(num_attributes)"
   ]
  },
  {
   "cell_type": "code",
   "execution_count": 88,
   "metadata": {
    "ExecuteTime": {
     "end_time": "2021-01-22T19:12:20.920250Z",
     "start_time": "2021-01-22T19:12:12.321193Z"
    }
   },
   "outputs": [
    {
     "data": {
      "text/plain": [
       "<seaborn.axisgrid.PairGrid at 0x1f369f06760>"
      ]
     },
     "execution_count": 88,
     "metadata": {},
     "output_type": "execute_result"
    },
    {
     "data": {
      "image/png": "[encoded data removed]",
      "text/plain": [
       "<Figure size 720x720 with 20 Axes>"
      ]
     },
     "metadata": {},
     "output_type": "display_data"
    }
   ],
   "source": [
    "sns.pairplot(num_attributes)"
   ]
  },
  {
   "cell_type": "code",
   "execution_count": 95,
   "metadata": {
    "ExecuteTime": {
     "end_time": "2021-01-22T19:14:05.958978Z",
     "start_time": "2021-01-22T19:14:05.939989Z"
    }
   },
   "outputs": [
    {
     "data": {
      "text/html": [
       "<div>\n",
       "<style scoped>\n",
       "    .dataframe tbody tr th:only-of-type {\n",
       "        vertical-align: middle;\n",
       "    }\n",
       "\n",
       "    .dataframe tbody tr th {\n",
       "        vertical-align: top;\n",
       "    }\n",
       "\n",
       "    .dataframe thead th {\n",
       "        text-align: right;\n",
       "    }\n",
       "</style>\n",
       "<table border=\"1\" class=\"dataframe\">\n",
       "  <thead>\n",
       "    <tr style=\"text-align: right;\">\n",
       "      <th></th>\n",
       "      <th>NOME</th>\n",
       "      <th>ENDERECO</th>\n",
       "    </tr>\n",
       "  </thead>\n",
       "  <tbody>\n",
       "    <tr>\n",
       "      <th>0</th>\n",
       "      <td>1336</td>\n",
       "      <td>31</td>\n",
       "    </tr>\n",
       "  </tbody>\n",
       "</table>\n",
       "</div>"
      ],
      "text/plain": [
       "   NOME  ENDERECO\n",
       "0  1336        31"
      ]
     },
     "execution_count": 95,
     "metadata": {},
     "output_type": "execute_result"
    }
   ],
   "source": [
    "cat_attributes.apply(lambda x: x.unique().shape)"
   ]
  },
  {
   "cell_type": "code",
   "execution_count": 96,
   "metadata": {
    "ExecuteTime": {
     "end_time": "2021-01-22T19:15:08.636778Z",
     "start_time": "2021-01-22T19:15:08.626786Z"
    }
   },
   "outputs": [
    {
     "data": {
      "text/plain": [
       "array(['Ponta Negra', 'Alecrim', 'Barro Vermelho', 'Capim Macio',\n",
       "       'Nossa Senhora de Nazaré', 'Nossa Senhora da Apresentação',\n",
       "       'Lagoa Nova', 'Neópolis', 'Pitimbu', 'Candelária', 'Tirol',\n",
       "       'Dix-Sept Rosado', 'Rocas', 'Nova Descoberta', 'Cidade Alta',\n",
       "       'Petrópolis', 'Felipe Camarão', 'Quintas', 'Areia Preta',\n",
       "       'Planalto', 'Pajuçara', 'Cidade da Esperança', 'Bom Pastor',\n",
       "       'Praia do Meio', 'Ribeira', 'Potengi', 'Lagoa Azul', 'Cidade Nova',\n",
       "       'Lagoa Seca', 'Redinha', 'Igapó'], dtype=object)"
      ]
     },
     "execution_count": 96,
     "metadata": {},
     "output_type": "execute_result"
    }
   ],
   "source": [
    "cat_attributes['ENDERECO'].unique()"
   ]
  },
  {
   "cell_type": "markdown",
   "metadata": {},
   "source": [
    "### Bairros de interesse"
   ]
  },
  {
   "cell_type": "code",
   "execution_count": 97,
   "metadata": {
    "ExecuteTime": {
     "end_time": "2021-01-22T19:16:13.668871Z",
     "start_time": "2021-01-22T19:16:13.661876Z"
    }
   },
   "outputs": [],
   "source": [
    "bairros = ['Ponta Negra','Capim Macio','Petrópolis','Lagoa Nova']"
   ]
  },
  {
   "cell_type": "code",
   "execution_count": 104,
   "metadata": {
    "ExecuteTime": {
     "end_time": "2021-01-22T19:21:57.473170Z",
     "start_time": "2021-01-22T19:21:57.458178Z"
    }
   },
   "outputs": [
    {
     "data": {
      "text/plain": [
       "(628, 6)"
      ]
     },
     "execution_count": 104,
     "metadata": {},
     "output_type": "execute_result"
    }
   ],
   "source": [
    "df4 = df3[df3['ENDERECO'].str.contains('Capim Macio|Ponta Negra|Petrópolis')]\n",
    "\n",
    "df4.shape"
   ]
  },
  {
   "cell_type": "code",
   "execution_count": 107,
   "metadata": {
    "ExecuteTime": {
     "end_time": "2021-01-22T19:23:34.372645Z",
     "start_time": "2021-01-22T19:23:30.563112Z"
    }
   },
   "outputs": [
    {
     "data": {
      "text/html": [
       "<div>\n",
       "<style scoped>\n",
       "    .dataframe tbody tr th:only-of-type {\n",
       "        vertical-align: middle;\n",
       "    }\n",
       "\n",
       "    .dataframe tbody tr th {\n",
       "        vertical-align: top;\n",
       "    }\n",
       "\n",
       "    .dataframe thead th {\n",
       "        text-align: right;\n",
       "    }\n",
       "</style>\n",
       "<table border=\"1\" class=\"dataframe\">\n",
       "  <thead>\n",
       "    <tr style=\"text-align: right;\">\n",
       "      <th></th>\n",
       "      <th>attributes</th>\n",
       "      <th>min</th>\n",
       "      <th>max</th>\n",
       "      <th>range</th>\n",
       "      <th>mean</th>\n",
       "      <th>median</th>\n",
       "      <th>std</th>\n",
       "      <th>skew</th>\n",
       "      <th>kurtosis</th>\n",
       "    </tr>\n",
       "  </thead>\n",
       "  <tbody>\n",
       "    <tr>\n",
       "      <th>0</th>\n",
       "      <td>QUARTOS</td>\n",
       "      <td>1.0</td>\n",
       "      <td>4.0</td>\n",
       "      <td>3.0</td>\n",
       "      <td>2.009554</td>\n",
       "      <td>2.0</td>\n",
       "      <td>0.740054</td>\n",
       "      <td>0.221091</td>\n",
       "      <td>-0.543939</td>\n",
       "    </tr>\n",
       "    <tr>\n",
       "      <th>1</th>\n",
       "      <td>VAGAS</td>\n",
       "      <td>0.0</td>\n",
       "      <td>4.0</td>\n",
       "      <td>4.0</td>\n",
       "      <td>1.044586</td>\n",
       "      <td>1.0</td>\n",
       "      <td>0.649291</td>\n",
       "      <td>0.551237</td>\n",
       "      <td>1.482963</td>\n",
       "    </tr>\n",
       "    <tr>\n",
       "      <th>2</th>\n",
       "      <td>CONDOMINIO</td>\n",
       "      <td>0.0</td>\n",
       "      <td>950.0</td>\n",
       "      <td>950.0</td>\n",
       "      <td>45.952229</td>\n",
       "      <td>0.0</td>\n",
       "      <td>148.038978</td>\n",
       "      <td>3.402580</td>\n",
       "      <td>11.293001</td>\n",
       "    </tr>\n",
       "    <tr>\n",
       "      <th>3</th>\n",
       "      <td>AREA</td>\n",
       "      <td>0.0</td>\n",
       "      <td>188.0</td>\n",
       "      <td>188.0</td>\n",
       "      <td>52.980892</td>\n",
       "      <td>56.0</td>\n",
       "      <td>31.677258</td>\n",
       "      <td>0.318214</td>\n",
       "      <td>1.202289</td>\n",
       "    </tr>\n",
       "  </tbody>\n",
       "</table>\n",
       "</div>"
      ],
      "text/plain": [
       "   attributes  min    max  range       mean  median         std      skew   kurtosis\n",
       "0     QUARTOS  1.0    4.0    3.0   2.009554     2.0    0.740054  0.221091  -0.543939\n",
       "1       VAGAS  0.0    4.0    4.0   1.044586     1.0    0.649291  0.551237   1.482963\n",
       "2  CONDOMINIO  0.0  950.0  950.0  45.952229     0.0  148.038978  3.402580  11.293001\n",
       "3        AREA  0.0  188.0  188.0  52.980892    56.0   31.677258  0.318214   1.202289"
      ]
     },
     "execution_count": 107,
     "metadata": {},
     "output_type": "execute_result"
    },
    {
     "data": {
      "image/png": "[encoded data removed]",
      "text/plain": [
       "<Figure size 1800x864 with 4 Axes>"
      ]
     },
     "metadata": {},
     "output_type": "display_data"
    }
   ],
   "source": [
    "num_attributes = df4.select_dtypes(include = ['int64'])\n",
    "cat_attributes = df4.select_dtypes(include = ['object'])\n",
    "\n",
    "num_analysis(num_attributes)"
   ]
  },
  {
   "cell_type": "code",
   "execution_count": 108,
   "metadata": {
    "ExecuteTime": {
     "end_time": "2021-01-22T19:23:53.683253Z",
     "start_time": "2021-01-22T19:23:44.561680Z"
    }
   },
   "outputs": [
    {
     "data": {
      "text/plain": [
       "<seaborn.axisgrid.PairGrid at 0x1f36d935ee0>"
      ]
     },
     "execution_count": 108,
     "metadata": {},
     "output_type": "execute_result"
    },
    {
     "data": {
      "image/png": "[encoded data removed]",
      "text/plain": [
       "<Figure size 720x720 with 20 Axes>"
      ]
     },
     "metadata": {},
     "output_type": "display_data"
    }
   ],
   "source": [
    "sns.pairplot(num_attributes)"
   ]
  },
  {
   "cell_type": "code",
   "execution_count": null,
   "metadata": {},
   "outputs": [],
   "source": [
    "sns.boxplot(x='')"
   ]
  }
 ],
 "metadata": {
  "celltoolbar": "Raw Cell Format",
  "kernelspec": {
   "display_name": "Python 3",
   "language": "python",
   "name": "python3"
  },
  "language_info": {
   "codemirror_mode": {
    "name": "ipython",
    "version": 3
   },
   "file_extension": ".py",
   "mimetype": "text/x-python",
   "name": "python",
   "nbconvert_exporter": "python",
   "pygments_lexer": "ipython3",
   "version": "3.8.5"
  },
  "latex_envs": {
   "LaTeX_envs_menu_present": true,
   "autoclose": false,
   "autocomplete": true,
   "bibliofile": "biblio.bib",
   "cite_by": "apalike",
   "current_citInitial": 1,
   "eqLabelWithNumbers": true,
   "eqNumInitial": 1,
   "hotkeys": {
    "equation": "Ctrl-E",
    "itemize": "Ctrl-I"
   },
   "labels_anchors": false,
   "latex_user_defs": false,
   "report_style_numbering": false,
   "user_envs_cfg": false
  }
 },
 "nbformat": 4,
 "nbformat_minor": 4
}
