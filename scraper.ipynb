{
 "cells": [
  {
   "cell_type": "markdown",
   "metadata": {},
   "source": [
    "# 0.0. Imports"
   ]
  },
  {
   "cell_type": "markdown",
   "metadata": {},
   "source": [
    "## 0.1. Libraries"
   ]
  },
  {
   "cell_type": "code",
   "execution_count": 4,
   "metadata": {
    "ExecuteTime": {
     "end_time": "2021-01-22T18:20:57.166764Z",
     "start_time": "2021-01-22T18:20:50.746621Z"
    }
   },
   "outputs": [],
   "source": [
    "# jupyter core\n",
    "from IPython.core.display      import display, HTML\n",
    "from IPython.display           import Image\n",
    "\n",
    "# requests\n",
    "from urllib.request import Request, urlopen, urlretrieve\n",
    "from urllib.error import URLError, HTTPError\n",
    "\n",
    "# scraping\n",
    "from bs4 import BeautifulSoup\n",
    "\n",
    "# data manipulation\n",
    "import numpy as np\n",
    "import pandas as pd\n",
    "import re\n",
    "\n",
    "# EDA\n",
    "import matplotlib.pyplot as plt\n",
    "import seaborn as sns"
   ]
  },
  {
   "cell_type": "markdown",
   "metadata": {},
   "source": [
    "## 0.2. Helper Functions"
   ]
  },
  {
   "cell_type": "code",
   "execution_count": 27,
   "metadata": {
    "ExecuteTime": {
     "end_time": "2021-01-20T00:51:09.643986Z",
     "start_time": "2021-01-20T00:51:09.603011Z"
    }
   },
   "outputs": [],
   "source": [
    "def jupyter_settings():\n",
    "    !matplotlib inline\n",
    "    !pylab inline\n",
    "    \n",
    "    plt.style.use('bmh')\n",
    "    plt.rcParams['figure.figsize'] = [25, 12]\n",
    "\n",
    "    plt.rcParams['font.size'] = 12\n",
    "    \n",
    "    display(HTML(\"<style>.container { width:100% !important; }</style>\"))\n",
    "    pd.set_option('display.max_rows', 500)\n",
    "    pd.set_option('display.max_columns', 500)\n",
    "    pd.set_option('display.expand_frame_repr', False)\n",
    "    \n",
    "    sns.set()\n",
    "    \n",
    "def scrape_ads(url):    \n",
    "    # scraping\n",
    "    pages = 29\n",
    "\n",
    "    # list, receiver of info from each renting ad, as a dictionaire\n",
    "    cards = []\n",
    "\n",
    "    for i in range(pages):\n",
    "        # requesting html\n",
    "        headers = {'user-agent': 'Mozilla/5.0 (Windows NT 10.0; Win64; x64) AppleWebKit/537.36 (KHTML, like Gecko) Chrome/84.0.4147.105 Safari/537.36'}\n",
    "        req = Request(url + str(i + 1), headers=headers)\n",
    "        response = urlopen(req)\n",
    "        html = response.read().decode('utf-8')\n",
    "\n",
    "        # scraper\n",
    "        soup = BeautifulSoup(html, 'html.parser')\n",
    "        anuncios = soup.find('div', {\"id\": \"column-main-content\"}).findAll('div', class_=\"fnmrjs-2 jiSLYe\")\n",
    "\n",
    "        for anuncio in anuncios:\n",
    "            card = {}\n",
    "\n",
    "            # name\n",
    "            card['NOME'] = anuncio.find(\"h2\").getText()\n",
    "\n",
    "            # value\n",
    "            span_valor = anuncio.find(\"span\", class_=\"sc-ifAKCX eoKYee\")\n",
    "            card[\"VALOR\"] = span_valor.get_text() if span_valor else ''\n",
    "\n",
    "            # details\n",
    "            span_detalhe = anuncio.find(\"span\", class_=\"sc-1j5op1p-0 lnqdIU sc-ifAKCX eLPYJb\")\n",
    "            card['DETALHES'] = span_detalhe.get_text().split('|') if span_detalhe else ''\n",
    "\n",
    "            # address\n",
    "            span_endereco = anuncio.find('span', class_=\"sc-7l84qu-1 ciykCV sc-ifAKCX dpURtf\")\n",
    "            card['ENDEREÇO'] = span_endereco.getText().split(', ')[1] if span_endereco else ''\n",
    "\n",
    "            # appending list values to dict\n",
    "            cards.append(card)    \n",
    "\n",
    "    # saving csv (or json, )\n",
    "    df_raw = pd.DataFrame(cards)\n",
    "    return df_raw"
   ]
  },
  {
   "cell_type": "code",
   "execution_count": 8,
   "metadata": {
    "ExecuteTime": {
     "end_time": "2021-01-19T19:16:55.876671Z",
     "start_time": "2021-01-19T19:16:55.380942Z"
    }
   },
   "outputs": [
    {
     "name": "stderr",
     "output_type": "stream",
     "text": [
      "'matplotlib' nÆo ‚ reconhecido como um comando interno\n",
      "ou externo, um programa oper vel ou um arquivo em lotes.\n",
      "'pylab' nÆo ‚ reconhecido como um comando interno\n",
      "ou externo, um programa oper vel ou um arquivo em lotes.\n"
     ]
    },
    {
     "data": {
      "text/html": [
       "<style>.container { width:100% !important; }</style>"
      ],
      "text/plain": [
       "<IPython.core.display.HTML object>"
      ]
     },
     "metadata": {},
     "output_type": "display_data"
    }
   ],
   "source": [
    "jupyter_settings()"
   ]
  },
  {
   "cell_type": "markdown",
   "metadata": {},
   "source": [
    "## 0.3. Data Scraper"
   ]
  },
  {
   "cell_type": "markdown",
   "metadata": {},
   "source": [
    "### Request test"
   ]
  },
  {
   "cell_type": "code",
   "execution_count": 5,
   "metadata": {
    "ExecuteTime": {
     "end_time": "2021-01-22T18:21:02.235679Z",
     "start_time": "2021-01-22T18:20:57.174759Z"
    }
   },
   "outputs": [
    {
     "name": "stdout",
     "output_type": "stream",
     "text": [
      "OK\n"
     ]
    }
   ],
   "source": [
    "# request test\n",
    "url = 'https://rn.olx.com.br/rio-grande-do-norte/natal/imoveis/aluguel/apartamentos?o=1'\n",
    "headers = {'user-agent': 'Mozilla/5.0 (Windows NT 10.0; Win64; x64) AppleWebKit/537.36 (KHTML, like Gecko) Chrome/84.0.4147.105 Safari/537.36'}\n",
    "try:\n",
    "    req = Request(url, headers=headers)\n",
    "    response = urlopen(req)\n",
    "    html = response.read().decode('utf-8')\n",
    "    print('OK')\n",
    "except HTTPError as e:\n",
    "    print(e.status, e.reason)\n",
    "    \n",
    "except URLError as e:\n",
    "    print(e.reason)"
   ]
  },
  {
   "cell_type": "markdown",
   "metadata": {},
   "source": [
    "### Scraper"
   ]
  },
  {
   "cell_type": "code",
   "execution_count": 6,
   "metadata": {
    "ExecuteTime": {
     "end_time": "2021-01-22T18:23:29.869348Z",
     "start_time": "2021-01-22T18:21:05.999276Z"
    }
   },
   "outputs": [
    {
     "data": {
      "text/html": [
       "<div>\n",
       "<style scoped>\n",
       "    .dataframe tbody tr th:only-of-type {\n",
       "        vertical-align: middle;\n",
       "    }\n",
       "\n",
       "    .dataframe tbody tr th {\n",
       "        vertical-align: top;\n",
       "    }\n",
       "\n",
       "    .dataframe thead th {\n",
       "        text-align: right;\n",
       "    }\n",
       "</style>\n",
       "<table border=\"1\" class=\"dataframe\">\n",
       "  <thead>\n",
       "    <tr style=\"text-align: right;\">\n",
       "      <th></th>\n",
       "      <th>NOME</th>\n",
       "      <th>VALOR</th>\n",
       "      <th>DETALHES</th>\n",
       "      <th>ENDEREÇO</th>\n",
       "    </tr>\n",
       "  </thead>\n",
       "  <tbody>\n",
       "    <tr>\n",
       "      <th>0</th>\n",
       "      <td>LC - Apartamento em Ponta Negra!</td>\n",
       "      <td>R$ 1.500</td>\n",
       "      <td>[2 quartos ,  58m² ,  1 vaga]</td>\n",
       "      <td>Ponta Negra</td>\n",
       "    </tr>\n",
       "    <tr>\n",
       "      <th>1</th>\n",
       "      <td>Alugo apartamento no Alecrim, sua casa no cent...</td>\n",
       "      <td>R$ 650</td>\n",
       "      <td>[2 quartos ,  50m²]</td>\n",
       "      <td>Alecrim</td>\n",
       "    </tr>\n",
       "    <tr>\n",
       "      <th>2</th>\n",
       "      <td>LCAP2201 - Ótimo apartamento em Tirol!</td>\n",
       "      <td>R$ 3.600</td>\n",
       "      <td>[2 quartos ,  200m² ,  2 vagas]</td>\n",
       "      <td>Barro Vermelho</td>\n",
       "    </tr>\n",
       "    <tr>\n",
       "      <th>3</th>\n",
       "      <td>Kitnet UFRN cidade jardim capim macio</td>\n",
       "      <td>R$ 800</td>\n",
       "      <td></td>\n",
       "      <td>Capim Macio</td>\n",
       "    </tr>\n",
       "    <tr>\n",
       "      <th>4</th>\n",
       "      <td>Kitinet excelente localização Ponta Negra</td>\n",
       "      <td>R$ 2.500</td>\n",
       "      <td>[1 quarto ,  14m² ,  Condomínio: R$ 0]</td>\n",
       "      <td>Ponta Negra</td>\n",
       "    </tr>\n",
       "  </tbody>\n",
       "</table>\n",
       "</div>"
      ],
      "text/plain": [
       "                                                NOME     VALOR  \\\n",
       "0                   LC - Apartamento em Ponta Negra!  R$ 1.500   \n",
       "1  Alugo apartamento no Alecrim, sua casa no cent...    R$ 650   \n",
       "2             LCAP2201 - Ótimo apartamento em Tirol!  R$ 3.600   \n",
       "3              Kitnet UFRN cidade jardim capim macio    R$ 800   \n",
       "4          Kitinet excelente localização Ponta Negra  R$ 2.500   \n",
       "\n",
       "                                 DETALHES        ENDEREÇO  \n",
       "0           [2 quartos ,  58m² ,  1 vaga]     Ponta Negra  \n",
       "1                     [2 quartos ,  50m²]         Alecrim  \n",
       "2         [2 quartos ,  200m² ,  2 vagas]  Barro Vermelho  \n",
       "3                                             Capim Macio  \n",
       "4  [1 quarto ,  14m² ,  Condomínio: R$ 0]     Ponta Negra  "
      ]
     },
     "execution_count": 6,
     "metadata": {},
     "output_type": "execute_result"
    }
   ],
   "source": [
    "# scraping\n",
    "pages = 29\n",
    "\n",
    "# list, receiver of info from each renting ad, as a dictionaire\n",
    "cards = []\n",
    "\n",
    "for i in range(pages):\n",
    "    # requesting html\n",
    "    headers = {'user-agent': 'Mozilla/5.0 (Windows NT 10.0; Win64; x64) AppleWebKit/537.36 (KHTML, like Gecko) Chrome/84.0.4147.105 Safari/537.36'}\n",
    "    req = Request('https://rn.olx.com.br/rio-grande-do-norte/natal/imoveis/aluguel/apartamentos?o=' + str(i + 1), headers=headers)\n",
    "    response = urlopen(req)\n",
    "    html = response.read().decode('utf-8')\n",
    "    \n",
    "    # scraper\n",
    "    soup = BeautifulSoup(html, 'html.parser')\n",
    "    anuncios = soup.find('div', {\"id\": \"column-main-content\"}).findAll('div', class_=\"fnmrjs-2 jiSLYe\")\n",
    "    \n",
    "    for anuncio in anuncios:\n",
    "        card = {}\n",
    "        \n",
    "        # name\n",
    "        card['NOME'] = anuncio.find(\"h2\").getText()\n",
    "        \n",
    "        # value\n",
    "        span_valor = anuncio.find(\"span\", class_=\"sc-ifAKCX eoKYee\")\n",
    "        card[\"VALOR\"] = span_valor.get_text() if span_valor else ''\n",
    "        \n",
    "        # details\n",
    "        span_detalhe = anuncio.find(\"span\", class_=\"sc-1j5op1p-0 lnqdIU sc-ifAKCX eLPYJb\")\n",
    "        card['DETALHES'] = span_detalhe.get_text().split('|') if span_detalhe else ''\n",
    "        \n",
    "        # address\n",
    "        span_endereco = anuncio.find('span', class_=\"sc-7l84qu-1 ciykCV sc-ifAKCX dpURtf\")\n",
    "        card['ENDEREÇO'] = span_endereco.getText().split(', ')[1] if span_endereco else ''\n",
    "        \n",
    "        # appending list values to dict\n",
    "        cards.append(card)    \n",
    "    \n",
    "# saving csv (or json, )\n",
    "df_raw = pd.DataFrame(cards)\n",
    "df_raw.head()"
   ]
  },
  {
   "cell_type": "code",
   "execution_count": 21,
   "metadata": {
    "ExecuteTime": {
     "end_time": "2021-01-22T18:25:43.457226Z",
     "start_time": "2021-01-22T18:25:43.427244Z"
    }
   },
   "outputs": [],
   "source": [
    "df_raw.to_csv('df_raw.csv')"
   ]
  },
  {
   "cell_type": "markdown",
   "metadata": {},
   "source": [
    "# Data Cleaning"
   ]
  },
  {
   "cell_type": "code",
   "execution_count": 7,
   "metadata": {
    "ExecuteTime": {
     "end_time": "2021-01-22T18:23:43.334785Z",
     "start_time": "2021-01-22T18:23:43.327791Z"
    }
   },
   "outputs": [],
   "source": [
    "df1 = df_raw.copy()"
   ]
  },
  {
   "cell_type": "code",
   "execution_count": 8,
   "metadata": {
    "ExecuteTime": {
     "end_time": "2021-01-22T18:23:44.239494Z",
     "start_time": "2021-01-22T18:23:44.230498Z"
    }
   },
   "outputs": [
    {
     "data": {
      "text/plain": [
       "(1448, 4)"
      ]
     },
     "execution_count": 8,
     "metadata": {},
     "output_type": "execute_result"
    }
   ],
   "source": [
    "df1.shape"
   ]
  },
  {
   "cell_type": "code",
   "execution_count": 9,
   "metadata": {
    "ExecuteTime": {
     "end_time": "2021-01-22T18:23:45.280032Z",
     "start_time": "2021-01-22T18:23:45.269038Z"
    }
   },
   "outputs": [
    {
     "data": {
      "text/plain": [
       "NOME        object\n",
       "VALOR       object\n",
       "DETALHES    object\n",
       "ENDEREÇO    object\n",
       "dtype: object"
      ]
     },
     "execution_count": 9,
     "metadata": {},
     "output_type": "execute_result"
    }
   ],
   "source": [
    "df1.dtypes"
   ]
  },
  {
   "cell_type": "markdown",
   "metadata": {},
   "source": [
    "### Regex em DETALHES"
   ]
  },
  {
   "cell_type": "code",
   "execution_count": 10,
   "metadata": {
    "ExecuteTime": {
     "end_time": "2021-01-22T18:23:52.973908Z",
     "start_time": "2021-01-22T18:23:52.859980Z"
    }
   },
   "outputs": [
    {
     "data": {
      "text/html": [
       "<div>\n",
       "<style scoped>\n",
       "    .dataframe tbody tr th:only-of-type {\n",
       "        vertical-align: middle;\n",
       "    }\n",
       "\n",
       "    .dataframe tbody tr th {\n",
       "        vertical-align: top;\n",
       "    }\n",
       "\n",
       "    .dataframe thead th {\n",
       "        text-align: right;\n",
       "    }\n",
       "</style>\n",
       "<table border=\"1\" class=\"dataframe\">\n",
       "  <thead>\n",
       "    <tr style=\"text-align: right;\">\n",
       "      <th></th>\n",
       "      <th>NOME</th>\n",
       "      <th>VALOR</th>\n",
       "      <th>DETALHES</th>\n",
       "      <th>ENDEREÇO</th>\n",
       "      <th>QUARTOS</th>\n",
       "      <th>AREA</th>\n",
       "      <th>CONDOMINIO</th>\n",
       "      <th>VAGAS</th>\n",
       "    </tr>\n",
       "  </thead>\n",
       "  <tbody>\n",
       "    <tr>\n",
       "      <th>0</th>\n",
       "      <td>LC - Apartamento em Ponta Negra!</td>\n",
       "      <td>R$ 1.500</td>\n",
       "      <td>[2 quartos ,  58m² ,  1 vaga]</td>\n",
       "      <td>Ponta Negra</td>\n",
       "      <td>[2 quartos]</td>\n",
       "      <td>[58m²]</td>\n",
       "      <td>[]</td>\n",
       "      <td>[1 vaga]</td>\n",
       "    </tr>\n",
       "    <tr>\n",
       "      <th>1</th>\n",
       "      <td>Alugo apartamento no Alecrim, sua casa no cent...</td>\n",
       "      <td>R$ 650</td>\n",
       "      <td>[2 quartos ,  50m²]</td>\n",
       "      <td>Alecrim</td>\n",
       "      <td>[2 quartos]</td>\n",
       "      <td>[50m²]</td>\n",
       "      <td>[]</td>\n",
       "      <td>[]</td>\n",
       "    </tr>\n",
       "    <tr>\n",
       "      <th>2</th>\n",
       "      <td>LCAP2201 - Ótimo apartamento em Tirol!</td>\n",
       "      <td>R$ 3.600</td>\n",
       "      <td>[2 quartos ,  200m² ,  2 vagas]</td>\n",
       "      <td>Barro Vermelho</td>\n",
       "      <td>[2 quartos]</td>\n",
       "      <td>[200m²]</td>\n",
       "      <td>[]</td>\n",
       "      <td>[2 vagas]</td>\n",
       "    </tr>\n",
       "    <tr>\n",
       "      <th>3</th>\n",
       "      <td>Kitnet UFRN cidade jardim capim macio</td>\n",
       "      <td>R$ 800</td>\n",
       "      <td></td>\n",
       "      <td>Capim Macio</td>\n",
       "      <td>[]</td>\n",
       "      <td>[]</td>\n",
       "      <td>[]</td>\n",
       "      <td>[]</td>\n",
       "    </tr>\n",
       "    <tr>\n",
       "      <th>4</th>\n",
       "      <td>Kitinet excelente localização Ponta Negra</td>\n",
       "      <td>R$ 2.500</td>\n",
       "      <td>[1 quarto ,  14m² ,  Condomínio: R$ 0]</td>\n",
       "      <td>Ponta Negra</td>\n",
       "      <td>[1 quarto]</td>\n",
       "      <td>[14m²]</td>\n",
       "      <td>[Condomínio: R$ 0]</td>\n",
       "      <td>[]</td>\n",
       "    </tr>\n",
       "  </tbody>\n",
       "</table>\n",
       "</div>"
      ],
      "text/plain": [
       "                                                NOME     VALOR  \\\n",
       "0                   LC - Apartamento em Ponta Negra!  R$ 1.500   \n",
       "1  Alugo apartamento no Alecrim, sua casa no cent...    R$ 650   \n",
       "2             LCAP2201 - Ótimo apartamento em Tirol!  R$ 3.600   \n",
       "3              Kitnet UFRN cidade jardim capim macio    R$ 800   \n",
       "4          Kitinet excelente localização Ponta Negra  R$ 2.500   \n",
       "\n",
       "                                 DETALHES        ENDEREÇO      QUARTOS  \\\n",
       "0           [2 quartos ,  58m² ,  1 vaga]     Ponta Negra  [2 quartos]   \n",
       "1                     [2 quartos ,  50m²]         Alecrim  [2 quartos]   \n",
       "2         [2 quartos ,  200m² ,  2 vagas]  Barro Vermelho  [2 quartos]   \n",
       "3                                             Capim Macio           []   \n",
       "4  [1 quarto ,  14m² ,  Condomínio: R$ 0]     Ponta Negra   [1 quarto]   \n",
       "\n",
       "      AREA          CONDOMINIO      VAGAS  \n",
       "0   [58m²]                  []   [1 vaga]  \n",
       "1   [50m²]                  []         []  \n",
       "2  [200m²]                  []  [2 vagas]  \n",
       "3       []                  []         []  \n",
       "4   [14m²]  [Condomínio: R$ 0]         []  "
      ]
     },
     "execution_count": 10,
     "metadata": {},
     "output_type": "execute_result"
    }
   ],
   "source": [
    "# lambda functions and mapping the column DETALHES to separate each section\n",
    "f_quarto = lambda x: re.findall('[0-9]+ quartos?', str(x))\n",
    "f_area = lambda x: re.findall('[0-9]+m²', str(x))\n",
    "f_condominio = lambda x: re.findall('Condomínio: R\\$\\ [0-9]+', str(x))\n",
    "f_vaga = lambda x: re.findall('[0-9]+ vagas?', str(x))\n",
    "\n",
    "df1['QUARTOS'] = list(map(f_quarto, df1['DETALHES']))\n",
    "df1['AREA'] = list(map(f_area, df1['DETALHES']))\n",
    "df1['CONDOMINIO'] = list(map(f_condominio, df1['DETALHES']))\n",
    "df1['VAGAS'] = list(map(f_vaga, df1['DETALHES']))\n",
    "\n",
    "df1.head()"
   ]
  },
  {
   "cell_type": "code",
   "execution_count": 11,
   "metadata": {
    "ExecuteTime": {
     "end_time": "2021-01-22T18:23:54.393032Z",
     "start_time": "2021-01-22T18:23:54.258111Z"
    }
   },
   "outputs": [
    {
     "data": {
      "text/html": [
       "<div>\n",
       "<style scoped>\n",
       "    .dataframe tbody tr th:only-of-type {\n",
       "        vertical-align: middle;\n",
       "    }\n",
       "\n",
       "    .dataframe tbody tr th {\n",
       "        vertical-align: top;\n",
       "    }\n",
       "\n",
       "    .dataframe thead th {\n",
       "        text-align: right;\n",
       "    }\n",
       "</style>\n",
       "<table border=\"1\" class=\"dataframe\">\n",
       "  <thead>\n",
       "    <tr style=\"text-align: right;\">\n",
       "      <th></th>\n",
       "      <th>NOME</th>\n",
       "      <th>VALOR</th>\n",
       "      <th>DETALHES</th>\n",
       "      <th>ENDEREÇO</th>\n",
       "      <th>QUARTOS</th>\n",
       "      <th>AREA</th>\n",
       "      <th>CONDOMINIO</th>\n",
       "      <th>VAGAS</th>\n",
       "    </tr>\n",
       "  </thead>\n",
       "  <tbody>\n",
       "    <tr>\n",
       "      <th>0</th>\n",
       "      <td>LC - Apartamento em Ponta Negra!</td>\n",
       "      <td>R$ 1.500</td>\n",
       "      <td>[2 quartos ,  58m² ,  1 vaga]</td>\n",
       "      <td>Ponta Negra</td>\n",
       "      <td>[2]</td>\n",
       "      <td>[58]</td>\n",
       "      <td>[]</td>\n",
       "      <td>[1]</td>\n",
       "    </tr>\n",
       "    <tr>\n",
       "      <th>1</th>\n",
       "      <td>Alugo apartamento no Alecrim, sua casa no cent...</td>\n",
       "      <td>R$ 650</td>\n",
       "      <td>[2 quartos ,  50m²]</td>\n",
       "      <td>Alecrim</td>\n",
       "      <td>[2]</td>\n",
       "      <td>[50]</td>\n",
       "      <td>[]</td>\n",
       "      <td>[]</td>\n",
       "    </tr>\n",
       "    <tr>\n",
       "      <th>2</th>\n",
       "      <td>LCAP2201 - Ótimo apartamento em Tirol!</td>\n",
       "      <td>R$ 3.600</td>\n",
       "      <td>[2 quartos ,  200m² ,  2 vagas]</td>\n",
       "      <td>Barro Vermelho</td>\n",
       "      <td>[2]</td>\n",
       "      <td>[200]</td>\n",
       "      <td>[]</td>\n",
       "      <td>[2]</td>\n",
       "    </tr>\n",
       "    <tr>\n",
       "      <th>3</th>\n",
       "      <td>Kitnet UFRN cidade jardim capim macio</td>\n",
       "      <td>R$ 800</td>\n",
       "      <td></td>\n",
       "      <td>Capim Macio</td>\n",
       "      <td>[]</td>\n",
       "      <td>[]</td>\n",
       "      <td>[]</td>\n",
       "      <td>[]</td>\n",
       "    </tr>\n",
       "    <tr>\n",
       "      <th>4</th>\n",
       "      <td>Kitinet excelente localização Ponta Negra</td>\n",
       "      <td>R$ 2.500</td>\n",
       "      <td>[1 quarto ,  14m² ,  Condomínio: R$ 0]</td>\n",
       "      <td>Ponta Negra</td>\n",
       "      <td>[1]</td>\n",
       "      <td>[14]</td>\n",
       "      <td>[0]</td>\n",
       "      <td>[]</td>\n",
       "    </tr>\n",
       "  </tbody>\n",
       "</table>\n",
       "</div>"
      ],
      "text/plain": [
       "                                                NOME     VALOR  \\\n",
       "0                   LC - Apartamento em Ponta Negra!  R$ 1.500   \n",
       "1  Alugo apartamento no Alecrim, sua casa no cent...    R$ 650   \n",
       "2             LCAP2201 - Ótimo apartamento em Tirol!  R$ 3.600   \n",
       "3              Kitnet UFRN cidade jardim capim macio    R$ 800   \n",
       "4          Kitinet excelente localização Ponta Negra  R$ 2.500   \n",
       "\n",
       "                                 DETALHES        ENDEREÇO QUARTOS   AREA  \\\n",
       "0           [2 quartos ,  58m² ,  1 vaga]     Ponta Negra     [2]   [58]   \n",
       "1                     [2 quartos ,  50m²]         Alecrim     [2]   [50]   \n",
       "2         [2 quartos ,  200m² ,  2 vagas]  Barro Vermelho     [2]  [200]   \n",
       "3                                             Capim Macio      []     []   \n",
       "4  [1 quarto ,  14m² ,  Condomínio: R$ 0]     Ponta Negra     [1]   [14]   \n",
       "\n",
       "  CONDOMINIO VAGAS  \n",
       "0         []   [1]  \n",
       "1         []    []  \n",
       "2         []   [2]  \n",
       "3         []    []  \n",
       "4        [0]    []  "
      ]
     },
     "execution_count": 11,
     "metadata": {},
     "output_type": "execute_result"
    }
   ],
   "source": [
    "# lambda function and mapping to extract the number to count each feature\n",
    "f1_quarto = lambda x: re.findall('[0-9]+', str(x))\n",
    "f1_area = lambda x: re.findall('[0-9]+', str(x))\n",
    "f1_condominio = lambda x: re.findall('[0-9]+', str(x))\n",
    "f1_vaga = lambda x: re.findall('[0-9]+', str(x))\n",
    "\n",
    "df1['QUARTOS'] =  list(map(f1_quarto, df1['QUARTOS']))\n",
    "df1['AREA'] = list(map(f1_area, df1['AREA']))\n",
    "df1['CONDOMINIO'] = list(map(f1_condominio, df1['CONDOMINIO']))\n",
    "df1['VAGAS'] = list(map(f1_vaga, df1['VAGAS']))\n",
    "\n",
    "df1.head()"
   ]
  },
  {
   "cell_type": "markdown",
   "metadata": {},
   "source": [
    "### Cleaning Helper Functions"
   ]
  },
  {
   "cell_type": "code",
   "execution_count": 12,
   "metadata": {
    "ExecuteTime": {
     "end_time": "2021-01-22T18:24:06.367597Z",
     "start_time": "2021-01-22T18:24:06.347609Z"
    }
   },
   "outputs": [],
   "source": [
    "def list_quartos(n):\n",
    "    # lista com numeros de quartos\n",
    "    lst = []\n",
    "    \n",
    "    # iterando as strings com valores de numeros de quarto\n",
    "    for i in n:\n",
    "        if len(i)>3:\n",
    "            lst.append(i[-3])\n",
    "        else:\n",
    "            lst.append('1') #valores vazios são interpretados como kitnets e insere-se 1 quarto\n",
    "    \n",
    "    # convertendo o valor numerico de str para numero\n",
    "    lst = pd.Series(pd.to_numeric(lst))\n",
    "    \n",
    "    return lst\n",
    "\n",
    "def list_vagas(n):\n",
    "    # lista com numeros de vagas\n",
    "    lst = []\n",
    "    \n",
    "    # iterando as strings com valores de numeros de quarto\n",
    "    for i in n:\n",
    "        if len(i)>3:\n",
    "            lst.append(i[-3])\n",
    "        else:\n",
    "            lst.append('0') #valores vazios são interpretados como 0 vaga\n",
    "    \n",
    "    # convertendo o valor em str para numerico int\n",
    "    lst = pd.Series(pd.to_numeric(lst))\n",
    "    \n",
    "    return lst\n",
    "\n",
    "def list_cond(n):\n",
    "    # lista com valores de condominio\n",
    "    lst = []\n",
    "    \n",
    "    # iterando as strings com valores de condominio\n",
    "    for i in n:\n",
    "        if len(i)>2:\n",
    "            lst.append(''.join(re.findall('[0-9]+', i)))\n",
    "        else:\n",
    "            lst.append(0)\n",
    "    \n",
    "    # convertendo os valores em str para numerico int\n",
    "    lst = pd.Series(pd.to_numeric(lst))\n",
    "    \n",
    "    return lst\n",
    "\n",
    "def list_area(n):\n",
    "    # lista com valores de area\n",
    "    lst = []\n",
    "    \n",
    "    # iterando as strings com valores de area\n",
    "    for i in n:\n",
    "        if len(i)>2:\n",
    "            lst.append(''.join(re.findall('[0-9]+', i)))\n",
    "        else:\n",
    "            lst.append(0)\n",
    "    \n",
    "    # convertendo os valores em str para numerico int\n",
    "    lst = pd.Series(pd.to_numeric(lst))\n",
    "    \n",
    "    return lst"
   ]
  },
  {
   "cell_type": "markdown",
   "metadata": {},
   "source": [
    "### Quartos"
   ]
  },
  {
   "cell_type": "code",
   "execution_count": 13,
   "metadata": {
    "ExecuteTime": {
     "end_time": "2021-01-22T18:24:11.471928Z",
     "start_time": "2021-01-22T18:24:11.452938Z"
    }
   },
   "outputs": [
    {
     "data": {
      "text/plain": [
       "0       2\n",
       "1       2\n",
       "2       2\n",
       "3       1\n",
       "4       1\n",
       "       ..\n",
       "1443    3\n",
       "1444    2\n",
       "1445    1\n",
       "1446    4\n",
       "1447    2\n",
       "Length: 1448, dtype: int64"
      ]
     },
     "execution_count": 13,
     "metadata": {},
     "output_type": "execute_result"
    }
   ],
   "source": [
    "list_quartos(df1['QUARTOS'].astype(str))"
   ]
  },
  {
   "cell_type": "markdown",
   "metadata": {},
   "source": [
    "### Vagas"
   ]
  },
  {
   "cell_type": "code",
   "execution_count": 14,
   "metadata": {
    "ExecuteTime": {
     "end_time": "2021-01-22T18:24:12.964264Z",
     "start_time": "2021-01-22T18:24:12.942278Z"
    }
   },
   "outputs": [
    {
     "data": {
      "text/plain": [
       "0       1\n",
       "1       0\n",
       "2       2\n",
       "3       0\n",
       "4       0\n",
       "       ..\n",
       "1443    2\n",
       "1444    1\n",
       "1445    0\n",
       "1446    3\n",
       "1447    0\n",
       "Length: 1448, dtype: int64"
      ]
     },
     "execution_count": 14,
     "metadata": {},
     "output_type": "execute_result"
    }
   ],
   "source": [
    "list_vagas(df1['VAGAS'].astype(str))"
   ]
  },
  {
   "cell_type": "markdown",
   "metadata": {},
   "source": [
    "### Condominio"
   ]
  },
  {
   "cell_type": "code",
   "execution_count": 15,
   "metadata": {
    "ExecuteTime": {
     "end_time": "2021-01-22T18:24:14.548306Z",
     "start_time": "2021-01-22T18:24:14.519327Z"
    }
   },
   "outputs": [
    {
     "data": {
      "text/plain": [
       "0       0\n",
       "1       0\n",
       "2       0\n",
       "3       0\n",
       "4       0\n",
       "       ..\n",
       "1443    0\n",
       "1444    0\n",
       "1445    0\n",
       "1446    0\n",
       "1447    0\n",
       "Length: 1448, dtype: int64"
      ]
     },
     "execution_count": 15,
     "metadata": {},
     "output_type": "execute_result"
    }
   ],
   "source": [
    "list_cond(df1['CONDOMINIO'].astype(str))"
   ]
  },
  {
   "cell_type": "markdown",
   "metadata": {},
   "source": [
    "### Área"
   ]
  },
  {
   "cell_type": "code",
   "execution_count": 16,
   "metadata": {
    "ExecuteTime": {
     "end_time": "2021-01-22T18:24:16.017516Z",
     "start_time": "2021-01-22T18:24:15.988534Z"
    }
   },
   "outputs": [
    {
     "data": {
      "text/plain": [
       "0        58\n",
       "1        50\n",
       "2       200\n",
       "3         0\n",
       "4        14\n",
       "       ... \n",
       "1443      0\n",
       "1444     46\n",
       "1445     18\n",
       "1446    176\n",
       "1447     57\n",
       "Length: 1448, dtype: int64"
      ]
     },
     "execution_count": 16,
     "metadata": {},
     "output_type": "execute_result"
    }
   ],
   "source": [
    "list_area(df1['AREA'].astype(str))"
   ]
  },
  {
   "cell_type": "markdown",
   "metadata": {},
   "source": [
    "# Data Description"
   ]
  },
  {
   "cell_type": "code",
   "execution_count": 19,
   "metadata": {
    "ExecuteTime": {
     "end_time": "2021-01-22T18:25:02.557477Z",
     "start_time": "2021-01-22T18:25:02.508507Z"
    }
   },
   "outputs": [
    {
     "data": {
      "text/html": [
       "<div>\n",
       "<style scoped>\n",
       "    .dataframe tbody tr th:only-of-type {\n",
       "        vertical-align: middle;\n",
       "    }\n",
       "\n",
       "    .dataframe tbody tr th {\n",
       "        vertical-align: top;\n",
       "    }\n",
       "\n",
       "    .dataframe thead th {\n",
       "        text-align: right;\n",
       "    }\n",
       "</style>\n",
       "<table border=\"1\" class=\"dataframe\">\n",
       "  <thead>\n",
       "    <tr style=\"text-align: right;\">\n",
       "      <th></th>\n",
       "      <th>NOME</th>\n",
       "      <th>ENDERECO</th>\n",
       "      <th>QUARTOS</th>\n",
       "      <th>VAGAS</th>\n",
       "      <th>CONDOMINIO</th>\n",
       "      <th>AREA</th>\n",
       "    </tr>\n",
       "  </thead>\n",
       "  <tbody>\n",
       "    <tr>\n",
       "      <th>0</th>\n",
       "      <td>LC - Apartamento em Ponta Negra!</td>\n",
       "      <td>Ponta Negra</td>\n",
       "      <td>2</td>\n",
       "      <td>1</td>\n",
       "      <td>1</td>\n",
       "      <td>8</td>\n",
       "    </tr>\n",
       "    <tr>\n",
       "      <th>1</th>\n",
       "      <td>Alugo apartamento no Alecrim, sua casa no cent...</td>\n",
       "      <td>Alecrim</td>\n",
       "      <td>2</td>\n",
       "      <td>1</td>\n",
       "      <td>1</td>\n",
       "      <td>0</td>\n",
       "    </tr>\n",
       "    <tr>\n",
       "      <th>2</th>\n",
       "      <td>LCAP2201 - Ótimo apartamento em Tirol!</td>\n",
       "      <td>Barro Vermelho</td>\n",
       "      <td>2</td>\n",
       "      <td>2</td>\n",
       "      <td>1</td>\n",
       "      <td>0</td>\n",
       "    </tr>\n",
       "    <tr>\n",
       "      <th>3</th>\n",
       "      <td>Kitnet UFRN cidade jardim capim macio</td>\n",
       "      <td>Capim Macio</td>\n",
       "      <td>1</td>\n",
       "      <td>1</td>\n",
       "      <td>1</td>\n",
       "      <td>1</td>\n",
       "    </tr>\n",
       "    <tr>\n",
       "      <th>4</th>\n",
       "      <td>Kitinet excelente localização Ponta Negra</td>\n",
       "      <td>Ponta Negra</td>\n",
       "      <td>1</td>\n",
       "      <td>1</td>\n",
       "      <td>0</td>\n",
       "      <td>4</td>\n",
       "    </tr>\n",
       "  </tbody>\n",
       "</table>\n",
       "</div>"
      ],
      "text/plain": [
       "                                                NOME        ENDERECO  QUARTOS  \\\n",
       "0                   LC - Apartamento em Ponta Negra!     Ponta Negra        2   \n",
       "1  Alugo apartamento no Alecrim, sua casa no cent...         Alecrim        2   \n",
       "2             LCAP2201 - Ótimo apartamento em Tirol!  Barro Vermelho        2   \n",
       "3              Kitnet UFRN cidade jardim capim macio     Capim Macio        1   \n",
       "4          Kitinet excelente localização Ponta Negra     Ponta Negra        1   \n",
       "\n",
       "   VAGAS  CONDOMINIO  AREA  \n",
       "0      1           1     8  \n",
       "1      1           1     0  \n",
       "2      2           1     0  \n",
       "3      1           1     1  \n",
       "4      1           0     4  "
      ]
     },
     "execution_count": 19,
     "metadata": {},
     "output_type": "execute_result"
    }
   ],
   "source": [
    "df2 = pd.DataFrame()\n",
    "\n",
    "df2['NOME'] = df1['NOME']\n",
    "df2['ENDERECO'] = df1['ENDEREÇO']\n",
    "df2['QUARTOS'] = list_quartos(df1['QUARTOS'].astype(str))\n",
    "df2['VAGAS'] = list_quartos(df1['VAGAS'].astype(str))\n",
    "df2['CONDOMINIO'] = list_quartos(df1['CONDOMINIO'].astype(str))\n",
    "df2['AREA'] = list_quartos(df1['AREA'].astype(str))\n",
    "\n",
    "df2.head()"
   ]
  },
  {
   "cell_type": "code",
   "execution_count": 20,
   "metadata": {
    "ExecuteTime": {
     "end_time": "2021-01-22T18:25:22.324264Z",
     "start_time": "2021-01-22T18:25:22.291287Z"
    }
   },
   "outputs": [],
   "source": [
    "df2.to_csv('df_clean.csv')"
   ]
  },
  {
   "cell_type": "markdown",
   "metadata": {},
   "source": [
    "# EDA"
   ]
  },
  {
   "cell_type": "code",
   "execution_count": 26,
   "metadata": {
    "ExecuteTime": {
     "end_time": "2021-01-20T00:45:09.130112Z",
     "start_time": "2021-01-20T00:45:09.123115Z"
    }
   },
   "outputs": [],
   "source": [
    "df3 = df2.copy()"
   ]
  },
  {
   "cell_type": "code",
   "execution_count": null,
   "metadata": {},
   "outputs": [],
   "source": []
  },
  {
   "cell_type": "code",
   "execution_count": null,
   "metadata": {},
   "outputs": [],
   "source": []
  },
  {
   "cell_type": "code",
   "execution_count": null,
   "metadata": {},
   "outputs": [],
   "source": []
  },
  {
   "cell_type": "code",
   "execution_count": null,
   "metadata": {},
   "outputs": [],
   "source": []
  },
  {
   "cell_type": "code",
   "execution_count": null,
   "metadata": {},
   "outputs": [],
   "source": []
  },
  {
   "cell_type": "code",
   "execution_count": null,
   "metadata": {},
   "outputs": [],
   "source": []
  },
  {
   "cell_type": "code",
   "execution_count": null,
   "metadata": {},
   "outputs": [],
   "source": []
  },
  {
   "cell_type": "code",
   "execution_count": null,
   "metadata": {},
   "outputs": [],
   "source": []
  },
  {
   "cell_type": "code",
   "execution_count": null,
   "metadata": {},
   "outputs": [],
   "source": []
  },
  {
   "cell_type": "code",
   "execution_count": null,
   "metadata": {},
   "outputs": [],
   "source": []
  },
  {
   "cell_type": "code",
   "execution_count": null,
   "metadata": {},
   "outputs": [],
   "source": []
  }
 ],
 "metadata": {
  "celltoolbar": "Raw Cell Format",
  "kernelspec": {
   "display_name": "Python 3",
   "language": "python",
   "name": "python3"
  },
  "language_info": {
   "codemirror_mode": {
    "name": "ipython",
    "version": 3
   },
   "file_extension": ".py",
   "mimetype": "text/x-python",
   "name": "python",
   "nbconvert_exporter": "python",
   "pygments_lexer": "ipython3",
   "version": "3.8.5"
  },
  "latex_envs": {
   "LaTeX_envs_menu_present": true,
   "autoclose": false,
   "autocomplete": true,
   "bibliofile": "biblio.bib",
   "cite_by": "apalike",
   "current_citInitial": 1,
   "eqLabelWithNumbers": true,
   "eqNumInitial": 1,
   "hotkeys": {
    "equation": "Ctrl-E",
    "itemize": "Ctrl-I"
   },
   "labels_anchors": false,
   "latex_user_defs": false,
   "report_style_numbering": false,
   "user_envs_cfg": false
  }
 },
 "nbformat": 4,
 "nbformat_minor": 4
}
